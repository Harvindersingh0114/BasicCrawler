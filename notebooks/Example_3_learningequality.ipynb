{
 "cells": [
  {
   "cell_type": "code",
   "execution_count": 1,
   "metadata": {
    "scrolled": false
   },
   "outputs": [
    {
     "name": "stderr",
     "output_type": "stream",
     "text": [
      "Cache entry deserialization failed, entry ignored\n"
     ]
    },
    {
     "name": "stdout",
     "output_type": "stream",
     "text": [
      "Downloading page with url https://learningequality.org/\n"
     ]
    },
    {
     "name": "stderr",
     "output_type": "stream",
     "text": [
      "Cache entry deserialization failed, entry ignored\n",
      "Cache entry deserialization failed, entry ignored\n"
     ]
    },
    {
     "name": "stdout",
     "output_type": "stream",
     "text": [
      "Downloading page with url https://learningequality.org/about/\n",
      "Downloading page with url https://learningequality.org/about/values/\n"
     ]
    },
    {
     "name": "stderr",
     "output_type": "stream",
     "text": [
      "Cache entry deserialization failed, entry ignored\n"
     ]
    },
    {
     "name": "stdout",
     "output_type": "stream",
     "text": [
      "Downloading page with url https://learningequality.org/about/team/\n"
     ]
    },
    {
     "name": "stderr",
     "output_type": "stream",
     "text": [
      "Cache entry deserialization failed, entry ignored\n",
      "Cache entry deserialization failed, entry ignored\n"
     ]
    },
    {
     "name": "stdout",
     "output_type": "stream",
     "text": [
      "Downloading page with url https://learningequality.org/about/board/\n",
      "Downloading page with url https://learningequality.org/about/supporters/\n"
     ]
    },
    {
     "name": "stderr",
     "output_type": "stream",
     "text": [
      "Cache entry deserialization failed, entry ignored\n"
     ]
    },
    {
     "name": "stdout",
     "output_type": "stream",
     "text": [
      "Downloading page with url https://learningequality.org/about/translators/\n"
     ]
    },
    {
     "name": "stderr",
     "output_type": "stream",
     "text": [
      "Cache entry deserialization failed, entry ignored\n"
     ]
    },
    {
     "name": "stdout",
     "output_type": "stream",
     "text": [
      "Downloading page with url https://learningequality.org/about/press/\n"
     ]
    },
    {
     "name": "stderr",
     "output_type": "stream",
     "text": [
      "Cache entry deserialization failed, entry ignored\n",
      "Cache entry deserialization failed, entry ignored\n"
     ]
    },
    {
     "name": "stdout",
     "output_type": "stream",
     "text": [
      "Downloading page with url https://learningequality.org/about/jobs/\n",
      "Downloading page with url https://learningequality.org/about/internships/\n"
     ]
    },
    {
     "name": "stderr",
     "output_type": "stream",
     "text": [
      "Cache entry deserialization failed, entry ignored\n"
     ]
    },
    {
     "name": "stdout",
     "output_type": "stream",
     "text": [
      "Downloading page with url https://learningequality.org/kolibri/\n"
     ]
    },
    {
     "name": "stderr",
     "output_type": "stream",
     "text": [
      "Cache entry deserialization failed, entry ignored\n"
     ]
    },
    {
     "name": "stdout",
     "output_type": "stream",
     "text": [
      "Downloading page with url https://learningequality.org/ka-lite/\n",
      "Downloading page with url https://learningequality.org/blog/\n"
     ]
    },
    {
     "name": "stderr",
     "output_type": "stream",
     "text": [
      "Cache entry deserialization failed, entry ignored\n"
     ]
    },
    {
     "name": "stdout",
     "output_type": "stream",
     "text": [
      "Downloading page with url https://learningequality.org/indiegogo/\n",
      "Downloading page with url https://learningequality.org/ka-lite/map/\n"
     ]
    },
    {
     "name": "stderr",
     "output_type": "stream",
     "text": [
      "Cache entry deserialization failed, entry ignored\n",
      "Cache entry deserialization failed, entry ignored\n"
     ]
    },
    {
     "name": "stdout",
     "output_type": "stream",
     "text": [
      "Downloading page with url https://learningequality.org/ka-lite/map/add/\n",
      "Downloading page with url https://learningequality.org/ka-lite/infographic/\n"
     ]
    },
    {
     "name": "stderr",
     "output_type": "stream",
     "text": [
      "Cache entry deserialization failed, entry ignored\n",
      "Cache entry deserialization failed, entry ignored\n"
     ]
    },
    {
     "name": "stdout",
     "output_type": "stream",
     "text": [
      "Downloading page with url https://learningequality.org/donate/\n",
      "Downloading page with url https://learningequality.org/r/internship-application-form\n"
     ]
    },
    {
     "name": "stderr",
     "output_type": "stream",
     "text": [
      "Cache entry deserialization failed, entry ignored\n",
      "Cache entry deserialization failed, entry ignored\n"
     ]
    },
    {
     "name": "stdout",
     "output_type": "stream",
     "text": [
      "Downloading page with url https://learningequality.org/directions/\n",
      "Downloading page with url https://learningequality.org/kolibri/#portfolioModal1\n"
     ]
    },
    {
     "name": "stderr",
     "output_type": "stream",
     "text": [
      "Cache entry deserialization failed, entry ignored\n"
     ]
    },
    {
     "name": "stdout",
     "output_type": "stream",
     "text": [
      "Downloading page with url https://learningequality.org/kolibri/#portfolioModal5\n",
      "Downloading page with url https://learningequality.org/kolibri/#portfolioModal0\n",
      "Downloading page with url https://learningequality.org/kolibri/#portfolioModal3\n",
      "Downloading page with url https://learningequality.org/kolibri/#portfolioModal2\n",
      "Downloading page with url https://learningequality.org/kolibri/#portfolioModal4\n",
      "Downloading page with url https://learningequality.org/translate/\n"
     ]
    },
    {
     "name": "stderr",
     "output_type": "stream",
     "text": [
      "Cache entry deserialization failed, entry ignored\n"
     ]
    },
    {
     "name": "stdout",
     "output_type": "stream",
     "text": [
      "Downloading page with url https://learningequality.org/ka-lite/#download\n",
      "Downloading page with url https://learningequality.org/ka-lite/#overview\n",
      "Downloading page with url https://learningequality.org/ka-lite/#community\n",
      "Downloading page with url https://learningequality.org/ka-lite/#support\n"
     ]
    },
    {
     "name": "stderr",
     "output_type": "stream",
     "text": [
      "Cache entry deserialization failed, entry ignored\n"
     ]
    },
    {
     "name": "stdout",
     "output_type": "stream",
     "text": [
      "Downloading page with url https://learningequality.org/ka-lite/faq/#faq-question-bittorrent\n",
      "Downloading page with url https://learningequality.org/ka-lite/#this-carousel-id\n",
      "Downloading page with url https://learningequality.org/r/docs-latest\n",
      "Downloading page with url https://learningequality.org/r/docs-latest-faq\n",
      "Downloading page with url https://learningequality.org/r/docs-latest-install-guide\n",
      "Downloading page with url https://learningequality.org/blog/2014/samuel-morris-scholars-program-unforgettable-impac/\n"
     ]
    },
    {
     "name": "stderr",
     "output_type": "stream",
     "text": [
      "Cache entry deserialization failed, entry ignored\n"
     ]
    },
    {
     "name": "stdout",
     "output_type": "stream",
     "text": [
      "Downloading page with url https://learningequality.org/ka-lite/map/#carousel-samuel-morris-scholars-program-butaw-liberia-butaw\n",
      "Downloading page with url https://learningequality.org/ka-lite/map/#carousel-together-technologies-cape-town-cape-town\n",
      "Downloading page with url https://learningequality.org/ka-lite/map/#carousel-ransom-everglades-human-rights-coalition-kenya-mom\n",
      "Downloading page with url https://learningequality.org/ka-lite/map/#carousel-uconn-empower-cameroon-mbengwi\n",
      "Downloading page with url https://learningequality.org/ka-lite/map/#carousel-chocolate-university-tanzania-kyela\n",
      "Downloading page with url https://learningequality.org/blog/2013/ka-lite-brings-offline-education-idaho-department-/\n",
      "Downloading page with url https://learningequality.org/ka-lite/map/#carousel-robert-janss-school-idoc-boise-idaho\n",
      "Downloading page with url https://learningequality.org/blog/2013/sparks-family/\n",
      "Downloading page with url https://learningequality.org/ka-lite/map/#carousel-when-sparks-fly-denver-colorado-denver-colorado\n",
      "Downloading page with url https://learningequality.org/blog/2013/inspiring-confidence-by-edward-j-hills/\n",
      "Downloading page with url https://learningequality.org/ka-lite/map/#carousel-peninsula-college-corrections-washington-clallam-b\n",
      "Downloading page with url https://learningequality.org/ka-lite/map/#carousel-brahmanand-india-brahmanand-vidya-dham\n",
      "Downloading page with url https://learningequality.org/blog/2014/ka-lite-typhoon-stricken-mangorocoro/\n",
      "Downloading page with url https://learningequality.org/ka-lite/map/#carousel-barangay-mangorocoro-barangay-mangorocoro\n",
      "Downloading page with url https://learningequality.org/ka-lite/map/#carousel-khan-academy-burmese-yangon-myanmar\n",
      "Downloading page with url https://learningequality.org/blog/2014/deployment-spotlight-ka-lite-rural-guatemala/\n",
      "Downloading page with url https://learningequality.org/ka-lite/map/#carousel-funsepa-guatemala-department-sacatepequez\n",
      "Downloading page with url https://learningequality.org/blog/2013/bringing-ka-lite-gitwe/\n",
      "Downloading page with url https://learningequality.org/ka-lite/map/#carousel-ka-lite-and-stanford-medicine-gitwe-gitwe\n",
      "Downloading page with url https://learningequality.org/ka-lite/map/#carousel-nalanda\n",
      "Downloading page with url https://learningequality.org/ka-lite/map/#carousel-bibliotheques-sans-frontieres-yaounde\n",
      "Downloading page with url https://learningequality.org/ka-lite/map/#carousel-university-yangon-yangon\n",
      "Downloading page with url https://learningequality.org/ka-lite/map/#carousel-cambodia-after-school-program-chiro-krom\n",
      "Downloading page with url https://learningequality.org/ka-lite/map/#carousel-maarifa-uganda\n",
      "Downloading page with url https://learningequality.org/ka-lite/map/#carousel-khan-academy-burmese\n",
      "Downloading page with url https://learningequality.org/ka-lite/map/#carousel-BeeHive\n",
      "Downloading page with url https://learningequality.org/ka-lite/map/#carousel-Twikatane\n",
      "Downloading page with url https://learningequality.org/ka-lite/map/#carousel-AxiumEd\n",
      "Downloading page with url https://learningequality.org/ka-lite/map/#carousel-ashaiman\n",
      "Downloading page with url https://learningequality.org/ka-lite/map/#carousel-pestalozzi-zambia\n",
      "Downloading page with url https://learningequality.org/ka-lite/map/#carousel-medicine-and-education-karatu\n",
      "Downloading page with url https://learningequality.org/ka-lite/map/#carousel-citizens-foundation\n",
      "Downloading page with url https://learningequality.org/ka-lite/map/#carousel-eTekkatho-Kalay\n",
      "Downloading page with url https://learningequality.org/ka-lite/map/#carousel-St-Judes-Arusha\n",
      "Downloading page with url https://learningequality.org/ka-lite/map/#carousel-fair-northern-malawi\n",
      "Downloading page with url https://learningequality.org/ka-lite/map/#carousel-KALiteinPrisonsandJails\n",
      "Downloading page with url https://learningequality.org/ka-lite/map/#carousel-streetlight-schools\n",
      "Downloading page with url https://learningequality.org/ka-lite/map/#carousel-60milliongirls\n",
      "Downloading page with url https://learningequality.org/ka-lite/map/#carousel-home-schooling-in-karachi\n",
      "Downloading page with url https://learningequality.org/ka-lite/map/#carousel-kwadukuza\n",
      "Downloading page with url https://learningequality.org/ka-lite/map/#carousel-cacique-school\n",
      "Downloading page with url https://learningequality.org/ka-lite/map/#carousel-playa-hermosa\n",
      "Downloading page with url https://learningequality.org/ka-lite/map/#carousel-leap-diepsloot\n",
      "Downloading page with url https://learningequality.org/ka-lite/map/#carousel-goth-aloo-sadiqabad\n",
      "Downloading page with url https://learningequality.org/ka-lite/map/#carousel-shoulder-to-shoulder\n",
      "Downloading page with url https://learningequality.org/ka-lite/map/#carousel-care-india-hardoi\n",
      "Downloading page with url https://learningequality.org/ka-lite/map/#carousel-team4tech-and-worldvision-arusha\n",
      "Downloading page with url https://learningequality.org/ka-lite/map/#carousel-access-pakistan\n",
      "Downloading page with url https://learningequality.org/ka-lite/map/#carousel-bethel-umc-haiti-port-au-prince\n",
      "Downloading page with url https://learningequality.org/ka-lite/map/#carousel-city-public-school\n",
      "Downloading page with url https://learningequality.org/ka-lite/map/#carousel-escuela-adventista-bethel\n",
      "Downloading page with url https://learningequality.org/ka-lite/map/#carousel-aun-nigeria\n",
      "Downloading page with url https://learningequality.org/ka-lite/map/#carousel-steducentre\n",
      "Downloading page with url https://learningequality.org/ka-lite/map/#carousel-clickmaths-diepsloot\n",
      "Downloading page with url https://learningequality.org/ka-lite/map/#carousel-orlando-pirates-learning-centre-johannesburg\n",
      "Downloading page with url https://learningequality.org/ka-lite/map/#carousel-africa-ict-right\n",
      "Downloading page with url https://learningequality.org/ka-lite/map/#carousel-alma-huadhua\n",
      "Downloading page with url https://learningequality.org/ka-lite/map/#carousel-alma-jordan\n",
      "Downloading page with url https://learningequality.org/ka-lite/map/#carousel-alma-nuevo-miraflores\n",
      "Downloading page with url https://learningequality.org/ka-lite/map/#carousel-alma-huathua-lagunas\n",
      "Downloading page with url https://learningequality.org/ka-lite/map/#carousel-alma-tuksa\n",
      "Downloading page with url https://learningequality.org/ka-lite/map/#carousel-alma-chumpe\n",
      "Downloading page with url https://learningequality.org/ka-lite/map/#carousel-alma-karhuacalla\n",
      "Downloading page with url https://learningequality.org/ka-lite/map/#carousel-swallow-serrekunda\n",
      "Downloading page with url https://learningequality.org/ka-lite/map/#carousel-altius-foundation-pudukkadu\n",
      "Downloading page with url https://learningequality.org/ka-lite/map/#carousel-la-urbana-school-ka-lite\n",
      "Downloading page with url https://learningequality.org/ka-lite/map/#carousel-st-mary-abuja\n",
      "Downloading page with url https://learningequality.org/ka-lite/map/add/stories@learningequality.org\n",
      "NOT FOUND: https://learningequality.org/ka-lite/map/add/stories@learningequality.org\n",
      "GET on URL https://learningequality.org/ka-lite/map/add/stories@learningequality.org did not return page\n",
      "Downloading page with url https://learningequality.org/about/jobs/?gh_jid=533166\n",
      "Downloading page with url https://learningequality.org/ka-lite/faq/\n",
      "Downloading page with url https://learningequality.org/ka-lite/faq/#installation\n",
      "Downloading page with url https://learningequality.org/ka-lite/faq/#deployment\n",
      "Downloading page with url https://learningequality.org/ka-lite/faq/#compatibility\n",
      "Downloading page with url https://learningequality.org/ka-lite/faq/#syncing\n",
      "Downloading page with url https://learningequality.org/ka-lite/faq/#general\n",
      "Downloading page with url https://learningequality.org/ka-lite/faq/#internationalization\n",
      "Downloading page with url https://learningequality.org/ka-lite/faq/#contributing\n",
      "Downloading page with url https://learningequality.org/ka-lite/faq/#progress-tracking\n",
      "Downloading page with url https://learningequality.org/ka-lite/faq/#administration\n",
      "Downloading page with url https://learningequality.org/ka-lite/faq/#faq-question-how_to_install\n",
      "Downloading page with url https://learningequality.org/ka-lite/faq/#faq-question-cost\n",
      "Downloading page with url https://learningequality.org/ka-lite/faq/#faq-question-reportproblem\n",
      "Downloading page with url https://learningequality.org/ka-lite/faq/#faq-question-spanish-language-content\n",
      "Downloading page with url https://learningequality.org/ka-lite/faq/#faq-question-internet\n",
      "Downloading page with url https://learningequality.org/ka-lite/faq/#faq-question-distribution\n",
      "Downloading page with url https://learningequality.org/ka-lite/faq/#faq-question-fieldwork\n"
     ]
    },
    {
     "name": "stdout",
     "output_type": "stream",
     "text": [
      "Downloading page with url https://learningequality.org/ka-lite/faq/#faq-question-scenarios\n",
      "Downloading page with url https://learningequality.org/ka-lite/faq/#faq-question-hardware-configurations\n",
      "Downloading page with url https://learningequality.org/ka-lite/faq/#faq-question-requirements\n",
      "Downloading page with url https://learningequality.org/ka-lite/faq/#faq-question-software\n",
      "Downloading page with url https://learningequality.org/ka-lite/faq/#faq-question-what-is-it\n",
      "Downloading page with url https://learningequality.org/ka-lite/faq/#faq-question-p2p\n",
      "Downloading page with url https://learningequality.org/ka-lite/faq/#faq-question-maintainers\n",
      "Downloading page with url https://learningequality.org/ka-lite/faq/#faq-question-affiliation\n",
      "Downloading page with url https://learningequality.org/ka-lite/faq/#faq-question-localcontent\n",
      "Downloading page with url https://learningequality.org/ka-lite/faq/#faq-question-compress\n",
      "Downloading page with url https://learningequality.org/ka-lite/faq/#faq-question-translated_interface\n",
      "Downloading page with url https://learningequality.org/ka-lite/faq/#faq-question-contribute_developer\n",
      "Downloading page with url https://learningequality.org/ka-lite/faq/#faq-question-contribute_translator\n",
      "Downloading page with url https://learningequality.org/ka-lite/faq/#faq-question-support\n",
      "Downloading page with url https://learningequality.org/ka-lite/faq/#faq-question-moreinformation\n"
     ]
    },
    {
     "name": "stderr",
     "output_type": "stream",
     "text": [
      "Cache entry deserialization failed, entry ignored\n"
     ]
    },
    {
     "name": "stdout",
     "output_type": "stream",
     "text": [
      "Downloading page with url https://learningequality.org/ka-lite/faq/#faq-question-offlineprogresstracking\n",
      "Downloading page with url https://learningequality.org/ka-lite/faq/#faq-question-impact\n",
      "Downloading page with url https://learningequality.org/ka-lite/faq/#faq-question-backup\n",
      "Downloading page with url https://learningequality.org/ka-lite/user-guides/\n",
      "Downloading page with url https://learningequality.org/give/\n",
      "Downloading page with url https://learningequality.org/blog/2014/i18n-released/\n",
      "Downloading page with url https://learningequality.org/blog\n",
      "Downloading page with url https://learningequality.org/en/latest/\n",
      "NOT FOUND: https://learningequality.org/en/latest/\n",
      "GET on URL https://learningequality.org/en/latest/ did not return page\n",
      "Downloading page with url https://learningequality.org/en/stable/\n",
      "NOT FOUND: https://learningequality.org/en/stable/\n",
      "GET on URL https://learningequality.org/en/stable/ did not return page\n",
      "Downloading page with url https://learningequality.org/en/develop/\n",
      "NOT FOUND: https://learningequality.org/en/develop/\n",
      "GET on URL https://learningequality.org/en/develop/ did not return page\n",
      "Downloading page with url https://learningequality.org/en/0.17.x/\n",
      "NOT FOUND: https://learningequality.org/en/0.17.x/\n",
      "GET on URL https://learningequality.org/en/0.17.x/ did not return page\n",
      "Downloading page with url https://learningequality.org/en/0.16.x/\n",
      "NOT FOUND: https://learningequality.org/en/0.16.x/\n",
      "GET on URL https://learningequality.org/en/0.16.x/ did not return page\n",
      "Downloading page with url https://learningequality.org/en/0.15.x/\n",
      "NOT FOUND: https://learningequality.org/en/0.15.x/\n",
      "GET on URL https://learningequality.org/en/0.15.x/ did not return page\n",
      "Downloading page with url https://learningequality.org/en/0.14.x/\n",
      "NOT FOUND: https://learningequality.org/en/0.14.x/\n",
      "GET on URL https://learningequality.org/en/0.14.x/ did not return page\n",
      "Downloading page with url https://learningequality.org/en/0.13.x/\n"
     ]
    },
    {
     "name": "stderr",
     "output_type": "stream",
     "text": [
      "Cache entry deserialization failed, entry ignored\n"
     ]
    },
    {
     "name": "stdout",
     "output_type": "stream",
     "text": [
      "NOT FOUND: https://learningequality.org/en/0.13.x/\n",
      "GET on URL https://learningequality.org/en/0.13.x/ did not return page\n",
      "Downloading page with url https://learningequality.org\n",
      "Downloading page with url https://learningequality.org/ka-lite/map/#funsepa-guatemala-department-sacatepequez\n",
      "Downloading page with url https://learningequality.org/docs/\n",
      "Downloading page with url https://learningequality.org/docs/installguide/install_main.html\n"
     ]
    },
    {
     "name": "stderr",
     "output_type": "stream",
     "text": [
      "Cache entry deserialization failed, entry ignored\n",
      "Cache entry deserialization failed, entry ignored\n"
     ]
    },
    {
     "name": "stdout",
     "output_type": "stream",
     "text": [
      "Downloading page with url https://learningequality.org/ka-lite/user-guides/user-manual-012\n",
      "Downloading page with url https://learningequality.org/ka-lite/user-guides/student-username-password-handout\n"
     ]
    },
    {
     "name": "stderr",
     "output_type": "stream",
     "text": [
      "Cache entry deserialization failed, entry ignored\n",
      "Cache entry deserialization failed, entry ignored\n"
     ]
    },
    {
     "name": "stdout",
     "output_type": "stream",
     "text": [
      "Downloading page with url https://learningequality.org/ka-lite/user-guides/khan-academy-offline-alternatives-comparison\n",
      "Downloading page with url https://learningequality.org/ka-lite/user-guides/gsoc-ideas-list-2015\n"
     ]
    },
    {
     "name": "stderr",
     "output_type": "stream",
     "text": [
      "Cache entry deserialization failed, entry ignored\n"
     ]
    },
    {
     "name": "stdout",
     "output_type": "stream",
     "text": [
      "Downloading page with url https://learningequality.org/ka-lite/user-guides/documentary-instructions\n",
      "\n",
      "\n",
      "\n",
      "\n",
      "################################################################################\n",
      "# CRAWLER RECOMMENDATIONS BASED ON URLS ENCOUNTERED:\n",
      "################################################################################\n",
      "\n",
      "1. These URLs are very common and look like global navigation links:\n",
      "  -  https://learningequality.org/about/\n",
      "  -  https://learningequality.org/about/values/\n",
      "  -  https://learningequality.org/about/team/\n",
      "  -  https://learningequality.org/about/board/\n",
      "  -  https://learningequality.org/about/supporters/\n",
      "  -  https://learningequality.org/about/press/\n",
      "  -  https://learningequality.org/about/jobs/\n",
      "  -  https://learningequality.org/ka-lite/faq/\n",
      "  -  https://learningequality.org/\n",
      "  -  https://learningequality.org/kolibri/\n",
      "  -  https://learningequality.org/ka-lite/map/#carousel-samuel-morris-scholars-program-butaw-liberia-butaw\n",
      "  -  https://learningequality.org/ka-lite/map/#carousel-together-technologies-cape-town-cape-town\n",
      "  -  https://learningequality.org/ka-lite/map/#carousel-ransom-everglades-human-rights-coalition-kenya-mom\n",
      "  -  https://learningequality.org/ka-lite/map/#carousel-uconn-empower-cameroon-mbengwi\n",
      "  -  https://learningequality.org/ka-lite/map/#carousel-chocolate-university-tanzania-kyela\n",
      "  -  https://learningequality.org/ka-lite/map/#carousel-robert-janss-school-idoc-boise-idaho\n",
      "  -  https://learningequality.org/ka-lite/map/#carousel-when-sparks-fly-denver-colorado-denver-colorado\n",
      "  -  https://learningequality.org/ka-lite/map/#carousel-peninsula-college-corrections-washington-clallam-b\n",
      "  -  https://learningequality.org/ka-lite/map/#carousel-brahmanand-india-brahmanand-vidya-dham\n",
      "  -  https://learningequality.org/ka-lite/map/#carousel-barangay-mangorocoro-barangay-mangorocoro\n",
      "  -  https://learningequality.org/ka-lite/map/#carousel-khan-academy-burmese-yangon-myanmar\n",
      "  -  https://learningequality.org/ka-lite/map/#carousel-funsepa-guatemala-department-sacatepequez\n",
      "  -  https://learningequality.org/ka-lite/map/#carousel-ka-lite-and-stanford-medicine-gitwe-gitwe\n",
      "  -  https://learningequality.org/ka-lite/map/#carousel-nalanda\n",
      "  -  https://learningequality.org/ka-lite/map/#carousel-bibliotheques-sans-frontieres-yaounde\n",
      "  -  https://learningequality.org/ka-lite/map/#carousel-university-yangon-yangon\n",
      "  -  https://learningequality.org/ka-lite/map/#carousel-cambodia-after-school-program-chiro-krom\n",
      "  -  https://learningequality.org/ka-lite/map/#carousel-maarifa-uganda\n",
      "  -  https://learningequality.org/ka-lite/map/#carousel-khan-academy-burmese\n",
      "  -  https://learningequality.org/ka-lite/map/#carousel-BeeHive\n",
      "  -  https://learningequality.org/ka-lite/map/#carousel-Twikatane\n",
      "  -  https://learningequality.org/ka-lite/map/#carousel-AxiumEd\n",
      "  -  https://learningequality.org/ka-lite/map/#carousel-ashaiman\n",
      "  -  https://learningequality.org/ka-lite/map/#carousel-pestalozzi-zambia\n",
      "  -  https://learningequality.org/ka-lite/map/#carousel-medicine-and-education-karatu\n",
      "  -  https://learningequality.org/ka-lite/map/#carousel-citizens-foundation\n",
      "  -  https://learningequality.org/ka-lite/map/#carousel-eTekkatho-Kalay\n",
      "  -  https://learningequality.org/ka-lite/map/#carousel-St-Judes-Arusha\n",
      "  -  https://learningequality.org/ka-lite/map/#carousel-fair-northern-malawi\n",
      "  -  https://learningequality.org/ka-lite/map/#carousel-KALiteinPrisonsandJails\n",
      "  -  https://learningequality.org/ka-lite/map/#carousel-streetlight-schools\n",
      "  -  https://learningequality.org/ka-lite/map/#carousel-60milliongirls\n",
      "  -  https://learningequality.org/ka-lite/map/#carousel-home-schooling-in-karachi\n",
      "  -  https://learningequality.org/ka-lite/map/#carousel-kwadukuza\n",
      "  -  https://learningequality.org/ka-lite/map/#carousel-cacique-school\n",
      "  -  https://learningequality.org/ka-lite/map/#carousel-playa-hermosa\n",
      "  -  https://learningequality.org/ka-lite/map/#carousel-leap-diepsloot\n",
      "  -  https://learningequality.org/ka-lite/map/#carousel-goth-aloo-sadiqabad\n",
      "  -  https://learningequality.org/ka-lite/map/#carousel-shoulder-to-shoulder\n",
      "  -  https://learningequality.org/ka-lite/map/#carousel-care-india-hardoi\n",
      "  -  https://learningequality.org/ka-lite/map/#carousel-team4tech-and-worldvision-arusha\n",
      "  -  https://learningequality.org/ka-lite/map/#carousel-access-pakistan\n",
      "  -  https://learningequality.org/ka-lite/map/#carousel-bethel-umc-haiti-port-au-prince\n",
      "  -  https://learningequality.org/ka-lite/map/#carousel-city-public-school\n",
      "  -  https://learningequality.org/ka-lite/map/#carousel-escuela-adventista-bethel\n",
      "  -  https://learningequality.org/ka-lite/map/#carousel-aun-nigeria\n",
      "  -  https://learningequality.org/ka-lite/map/#carousel-steducentre\n",
      "  -  https://learningequality.org/ka-lite/map/#carousel-clickmaths-diepsloot\n",
      "  -  https://learningequality.org/ka-lite/map/#carousel-orlando-pirates-learning-centre-johannesburg\n",
      "  -  https://learningequality.org/ka-lite/map/#carousel-africa-ict-right\n",
      "  -  https://learningequality.org/ka-lite/map/#carousel-alma-huadhua\n",
      "  -  https://learningequality.org/ka-lite/map/#carousel-alma-jordan\n",
      "  -  https://learningequality.org/ka-lite/map/#carousel-alma-nuevo-miraflores\n",
      "  -  https://learningequality.org/ka-lite/map/#carousel-alma-huathua-lagunas\n",
      "  -  https://learningequality.org/ka-lite/map/#carousel-alma-tuksa\n",
      "  -  https://learningequality.org/ka-lite/map/#carousel-alma-chumpe\n",
      "  -  https://learningequality.org/ka-lite/map/#carousel-alma-karhuacalla\n",
      "  -  https://learningequality.org/ka-lite/map/#carousel-swallow-serrekunda\n",
      "  -  https://learningequality.org/ka-lite/map/#carousel-altius-foundation-pudukkadu\n",
      "  -  https://learningequality.org/ka-lite/map/#carousel-la-urbana-school-ka-lite\n",
      "  -  https://learningequality.org/ka-lite/map/#carousel-st-mary-abuja\n",
      "\n",
      "2. These are common path fragments found in URLs paths, so could correspond to site struture:\n",
      "  -  113 urls on site start with  /ka-lite\n",
      "  -  12 urls on site start with  /\n",
      "  -  9 urls on site start with  /about\n",
      "  -  7 urls on site start with  /kolibri\n",
      "  -  1 urls on site start with  /directions\n",
      "  -  1 urls on site start with  /donate\n",
      "  -  1 urls on site start with  /translate\n",
      "\n",
      "3. These are broken links --- you might want to add them to IGNORE_URLS\n",
      "['https://learningequality.org/ka-lite/map/add/stories@learningequality.org', 'https://learningequality.org/en/latest/', 'https://learningequality.org/en/stable/', 'https://learningequality.org/en/develop/', 'https://learningequality.org/en/0.17.x/', 'https://learningequality.org/en/0.16.x/', 'https://learningequality.org/en/0.15.x/', 'https://learningequality.org/en/0.14.x/', 'https://learningequality.org/en/0.13.x/']\n",
      "\n",
      "\n",
      "################################################################################\n",
      "\n",
      "\n",
      "\n"
     ]
    }
   ],
   "source": [
    "import re\n",
    "from crawler import BasicCrawler\n",
    "\n",
    "\n",
    "crawler = BasicCrawler(main_source_domain='https://learningequality.org')\n",
    "crawler.IGNORE_URL_PATTERNS.append(re.compile('.*cdn-cgi/l/email-protection.*'))\n",
    "crawler.IGNORE_URL_PATTERNS.append(re.compile('.*pdf'))\n",
    "crawler.CRAWLING_STAGE_OUTPUT = 'chefdata/trees/learningequality_web_resource_tree.json'\n",
    "\n",
    "# TODO: skip PDFs implement \n",
    "channel_tree = crawler.crawl(limit=5000)"
   ]
  },
  {
   "cell_type": "code",
   "execution_count": null,
   "metadata": {},
   "outputs": [],
   "source": []
  },
  {
   "cell_type": "code",
   "execution_count": null,
   "metadata": {},
   "outputs": [],
   "source": []
  },
  {
   "cell_type": "code",
   "execution_count": null,
   "metadata": {},
   "outputs": [],
   "source": []
  },
  {
   "cell_type": "code",
   "execution_count": null,
   "metadata": {},
   "outputs": [],
   "source": []
  },
  {
   "cell_type": "code",
   "execution_count": null,
   "metadata": {},
   "outputs": [],
   "source": []
  },
  {
   "cell_type": "code",
   "execution_count": null,
   "metadata": {},
   "outputs": [],
   "source": []
  },
  {
   "cell_type": "code",
   "execution_count": null,
   "metadata": {},
   "outputs": [],
   "source": []
  }
 ],
 "metadata": {
  "kernelspec": {
   "display_name": "Python 3",
   "language": "python",
   "name": "python3"
  },
  "language_info": {
   "codemirror_mode": {
    "name": "ipython",
    "version": 3
   },
   "file_extension": ".py",
   "mimetype": "text/x-python",
   "name": "python",
   "nbconvert_exporter": "python",
   "pygments_lexer": "ipython3",
   "version": "3.6.2"
  }
 },
 "nbformat": 4,
 "nbformat_minor": 2
}
