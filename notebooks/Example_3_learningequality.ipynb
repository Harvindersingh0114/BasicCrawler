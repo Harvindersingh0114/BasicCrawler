{
 "cells": [
  {
   "cell_type": "code",
   "execution_count": null,
   "metadata": {
    "scrolled": false
   },
   "outputs": [],
   "source": [
    "import re\n",
    "from crawler import BasicCrawler\n",
    "\n",
    "\n",
    "crawler = BasicCrawler(main_source_domain='https://learningequality.org')\n",
    "crawler.IGNORE_URL_PATTERNS.append(re.compile('.*cdn-cgi/l/email-protection.*'))\n",
    "crawler.IGNORE_URL_PATTERNS.append(re.compile('.*pdf'))\n",
    "crawler.CRAWLING_STAGE_OUTPUT = 'chefdata/trees/learningequality_web_resource_tree.json'\n",
    "\n",
    "# TODO: skip PDFs implement \n",
    "channel_tree = crawler.crawl(limit=5000)"
   ]
  },
  {
   "cell_type": "code",
   "execution_count": null,
   "metadata": {},
   "outputs": [],
   "source": []
  }
 ],
 "metadata": {
  "kernelspec": {
   "display_name": "Python 3",
   "language": "python",
   "name": "python3"
  },
  "language_info": {
   "codemirror_mode": {
    "name": "ipython",
    "version": 3
   },
   "file_extension": ".py",
   "mimetype": "text/x-python",
   "name": "python",
   "nbconvert_exporter": "python",
   "pygments_lexer": "ipython3",
   "version": "3.6.2"
  }
 },
 "nbformat": 4,
 "nbformat_minor": 2
}
