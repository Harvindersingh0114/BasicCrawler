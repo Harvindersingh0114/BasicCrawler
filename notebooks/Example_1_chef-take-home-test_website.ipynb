{
 "cells": [
  {
   "cell_type": "code",
   "execution_count": 1,
   "metadata": {},
   "outputs": [],
   "source": [
    "import json\n",
    "from crawler import BasicCrawler\n"
   ]
  },
  {
   "cell_type": "code",
   "execution_count": 2,
   "metadata": {},
   "outputs": [
    {
     "name": "stdout",
     "output_type": "stream",
     "text": [
      "Downloading page with url http://chef-take-home-test.learningequality.org/\n",
      "Downloading page with url http://chef-take-home-test.learningequality.org/Math/\n",
      "Downloading page with url http://chef-take-home-test.learningequality.org/Science/\n",
      "Downloading page with url http://chef-take-home-test.learningequality.org/Math/Numbers/\n",
      "Downloading page with url http://chef-take-home-test.learningequality.org/Math/Functions/\n",
      "Downloading page with url http://chef-take-home-test.learningequality.org/Math/Vectors_overview/\n",
      "Downloading page with url http://chef-take-home-test.learningequality.org/Science/Biology/\n",
      "Downloading page with url http://chef-take-home-test.learningequality.org/Science/Chemistry/\n",
      "Downloading page with url http://chef-take-home-test.learningequality.org/Science/Physics/\n",
      "Downloading page with url http://chef-take-home-test.learningequality.org/Math/Numbers/Numbers_Overview/\n",
      "Downloading page with url http://chef-take-home-test.learningequality.org/Math/Numbers/Classifying_numbers/\n",
      "Downloading page with url http://chef-take-home-test.learningequality.org/Math/Functions/Functions_overview/\n",
      "Downloading page with url http://chef-take-home-test.learningequality.org/Science/Biology/Whale_sounds/\n",
      "Downloading page with url http://chef-take-home-test.learningequality.org/Science/Chemistry/Organic_chemistry/\n",
      "Downloading page with url http://chef-take-home-test.learningequality.org/Science/Physics/Wave_particle_duality/\n"
     ]
    }
   ],
   "source": [
    "\n",
    "crawler = BasicCrawler(\n",
    "        main_source_domain='http://chef-take-home-test.learningequality.org',\n",
    "        start_page='http://chef-take-home-test.learningequality.org/')\n",
    "channel_tree = crawler.crawl(limit=1000)\n",
    "\n"
   ]
  },
  {
   "cell_type": "code",
   "execution_count": 3,
   "metadata": {
    "scrolled": true
   },
   "outputs": [
    {
     "name": "stdout",
     "output_type": "stream",
     "text": [
      "{\n",
      "  \"url\": \"THIS IS THE TOP LEVEL CONTAINER FOR THE CRAWLER OUTPUT. ITS UNIQUE CHILD NODE IS THE WEB ROOT.\",\n",
      "  \"title\": \"Website Title\",\n",
      "  \"children\": [\n",
      "    {\n",
      "      \"kind\": \"PageWebResource\",\n",
      "      \"url\": \"http://chef-take-home-test.learningequality.org/\",\n",
      "      \"children\": [\n",
      "        {\n",
      "          \"kind\": \"PageWebResource\",\n",
      "          \"url\": \"http://chef-take-home-test.learningequality.org/Math/\",\n",
      "          \"children\": [\n",
      "            {\n",
      "              \"kind\": \"PageWebResource\",\n",
      "              \"url\": \"http://chef-take-home-test.learningequality.org/Math/Numbers/\",\n",
      "              \"children\": [\n",
      "                {\n",
      "                  \"kind\": \"PageWebResource\",\n",
      "                  \"url\": \"http://chef-take-home-test.learningequality.org/Math/Numbers/Numbers_Overview/\",\n",
      "                  \"children\": []\n",
      "                },\n",
      "                {\n",
      "                  \"kind\": \"PageWebResource\",\n",
      "                  \"url\": \"http://chef-take-home-test.learningequality.org/Math/Numbers/Classifying_numbers/\",\n",
      "                  \"children\": []\n",
      "                }\n",
      "              ]\n",
      "            },\n",
      "            {\n",
      "              \"kind\": \"PageWebResource\",\n",
      "              \"url\": \"http://chef-take-home-test.learningequality.org/Math/Functions/\",\n",
      "              \"children\": [\n",
      "                {\n",
      "                  \"kind\": \"PageWebResource\",\n",
      "                  \"url\": \"http://chef-take-home-test.learningequality.org/Math/Functions/Functions_overview/\",\n",
      "                  \"children\": []\n",
      "                }\n",
      "              ]\n",
      "            },\n",
      "            {\n",
      "              \"kind\": \"PageWebResource\",\n",
      "              \"url\": \"http://chef-take-home-test.learningequality.org/Math/Vectors_overview/\",\n",
      "              \"children\": []\n",
      "            }\n",
      "          ]\n",
      "        },\n",
      "        {\n",
      "          \"kind\": \"PageWebResource\",\n",
      "          \"url\": \"http://chef-take-home-test.learningequality.org/Science/\",\n",
      "          \"children\": [\n",
      "            {\n",
      "              \"kind\": \"PageWebResource\",\n",
      "              \"url\": \"http://chef-take-home-test.learningequality.org/Science/Biology/\",\n",
      "              \"children\": [\n",
      "                {\n",
      "                  \"kind\": \"PageWebResource\",\n",
      "                  \"url\": \"http://chef-take-home-test.learningequality.org/Science/Biology/Whale_sounds/\",\n",
      "                  \"children\": []\n",
      "                }\n",
      "              ]\n",
      "            },\n",
      "            {\n",
      "              \"kind\": \"PageWebResource\",\n",
      "              \"url\": \"http://chef-take-home-test.learningequality.org/Science/Chemistry/\",\n",
      "              \"children\": [\n",
      "                {\n",
      "                  \"kind\": \"PageWebResource\",\n",
      "                  \"url\": \"http://chef-take-home-test.learningequality.org/Science/Chemistry/Organic_chemistry/\",\n",
      "                  \"children\": []\n",
      "                }\n",
      "              ]\n",
      "            },\n",
      "            {\n",
      "              \"kind\": \"PageWebResource\",\n",
      "              \"url\": \"http://chef-take-home-test.learningequality.org/Science/Physics/\",\n",
      "              \"children\": [\n",
      "                {\n",
      "                  \"kind\": \"PageWebResource\",\n",
      "                  \"url\": \"http://chef-take-home-test.learningequality.org/Science/Physics/Wave_particle_duality/\",\n",
      "                  \"children\": []\n",
      "                }\n",
      "              ]\n",
      "            }\n",
      "          ]\n",
      "        }\n",
      "      ]\n",
      "    }\n",
      "  ]\n",
      "}\n"
     ]
    }
   ],
   "source": [
    "print(json.dumps(channel_tree, indent =2))"
   ]
  },
  {
   "cell_type": "code",
   "execution_count": 4,
   "metadata": {},
   "outputs": [
    {
     "name": "stdout",
     "output_type": "stream",
     "text": [
      "  - url: THIS IS THE TOP LEVEL CONTAINER FOR THE CRAWLER OUTPUT. ITS UNIQUE CHILD NODE IS THE WEB ROOT. \n",
      "    children:\n",
      "    - path: /  (PageWebResource) \n",
      "      children:\n",
      "      - path: /Math/  (PageWebResource) \n",
      "        children:\n",
      "        - path: /Math/Numbers/  (PageWebResource) \n",
      "          children:\n",
      "          - path: /Math/Numbers/Numbers_Overview/  (PageWebResource) \n",
      "          - path: /Math/Numbers/Classifying_numbers/  (PageWebResource) \n",
      "        - path: /Math/Functions/  (PageWebResource) \n",
      "          children:\n",
      "          - path: /Math/Functions/Functions_overview/  (PageWebResource) \n",
      "        - path: /Math/Vectors_overview/  (PageWebResource) \n",
      "      - path: /Science/  (PageWebResource) \n",
      "        children:\n",
      "        - path: /Science/Biology/  (PageWebResource) \n",
      "          children:\n",
      "          - path: /Science/Biology/Whale_sounds/  (PageWebResource) \n",
      "        - path: /Science/Chemistry/  (PageWebResource) \n",
      "          children:\n",
      "          - path: /Science/Chemistry/Organic_chemistry/  (PageWebResource) \n",
      "        - path: /Science/Physics/  (PageWebResource) \n",
      "          children:\n",
      "          - path: /Science/Physics/Wave_particle_duality/  (PageWebResource) \n"
     ]
    }
   ],
   "source": [
    " crawler.print_tree(channel_tree, print_depth=100)"
   ]
  },
  {
   "cell_type": "code",
   "execution_count": 5,
   "metadata": {},
   "outputs": [
    {
     "data": {
      "text/plain": [
       "[('Math', 7), ('Science', 7), ('', 1)]"
      ]
     },
     "execution_count": 5,
     "metadata": {},
     "output_type": "execute_result"
    }
   ],
   "source": [
    "crawler.infer_tree_structure(channel_tree)\n"
   ]
  },
  {
   "cell_type": "code",
   "execution_count": 6,
   "metadata": {},
   "outputs": [
    {
     "name": "stdout",
     "output_type": "stream",
     "text": [
      "seen_count/total_urls_seen_count= 0.06666666666666667 = 1 / 15 /Math/Numbers/Numbers_Overview/\n",
      "seen_count/total_urls_seen_count= 0.06666666666666667 = 1 / 15 /Math/Numbers/Classifying_numbers/\n",
      "seen_count/total_urls_seen_count= 0.06666666666666667 = 1 / 15 /Math/Functions/Functions_overview/\n",
      "seen_count/total_urls_seen_count= 0.06666666666666667 = 1 / 15 /Math/Vectors_overview/\n",
      "seen_count/total_urls_seen_count= 0.06666666666666667 = 1 / 15 /Science/Biology/Whale_sounds/\n",
      "seen_count/total_urls_seen_count= 0.06666666666666667 = 1 / 15 /Science/Chemistry/Organic_chemistry/\n",
      "seen_count/total_urls_seen_count= 0.06666666666666667 = 1 / 15 /Science/Physics/Wave_particle_duality/\n"
     ]
    },
    {
     "data": {
      "text/plain": [
       "{'children': [],\n",
       " 'kind': 'GlobalNavLinks',\n",
       " 'url': 'http://chef-take-home-test.learningequality.org'}"
      ]
     },
     "execution_count": 6,
     "metadata": {},
     "output_type": "execute_result"
    }
   ],
   "source": [
    "crawler.infer_gloabal_nav(channel_tree)"
   ]
  },
  {
   "cell_type": "code",
   "execution_count": null,
   "metadata": {},
   "outputs": [],
   "source": []
  }
 ],
 "metadata": {
  "kernelspec": {
   "display_name": "Python 3",
   "language": "python",
   "name": "python3"
  },
  "language_info": {
   "codemirror_mode": {
    "name": "ipython",
    "version": 3
   },
   "file_extension": ".py",
   "mimetype": "text/x-python",
   "name": "python",
   "nbconvert_exporter": "python",
   "pygments_lexer": "ipython3",
   "version": "3.6.2"
  }
 },
 "nbformat": 4,
 "nbformat_minor": 2
}
