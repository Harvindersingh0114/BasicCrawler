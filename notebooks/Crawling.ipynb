{
 "cells": [
  {
   "cell_type": "markdown",
   "metadata": {},
   "source": [
    "# Crawling tutorial\n",
    "\n",
    "A web scraper script is anlogous to a spider that crawls a website's graph of URLs.\n",
    "In this tutorial, we'll look at some examples of Python libraries for downloading and undestanding website stucture.\n",
    "\n",
    "For optimal viewing of this notebook, you should enable the custom \"wide format\":\n",
    "`cat wide_notebooks.css >> ../../venv/lib/python3.X/site-packages/notebook/static/custom/custom.css` (replace X with 4/5/6 depending on your version of Python)"
   ]
  },
  {
   "cell_type": "code",
   "execution_count": 1,
   "metadata": {},
   "outputs": [],
   "source": [
    "import json\n",
    "from crawler import BasicCrawler\n"
   ]
  },
  {
   "cell_type": "code",
   "execution_count": 2,
   "metadata": {},
   "outputs": [
    {
     "data": {
      "text/plain": [
       "'http://www.example.com/hithere/something/else?alskjalksj'"
      ]
     },
     "execution_count": 2,
     "metadata": {},
     "output_type": "execute_result"
    }
   ],
   "source": [
    "import urllib.parse\n",
    "urllib.parse.urlparse('http://www.example.com/hithere/something/else?alskjalksj').geturl()\n"
   ]
  },
  {
   "cell_type": "code",
   "execution_count": 3,
   "metadata": {},
   "outputs": [
    {
     "name": "stdout",
     "output_type": "stream",
     "text": [
      "Downloading page with url http://chef-take-home-test.learningequality.org/\n",
      "Downloading page with url http://chef-take-home-test.learningequality.org/Math/\n",
      "Downloading page with url http://chef-take-home-test.learningequality.org/Science/\n",
      "Downloading page with url http://chef-take-home-test.learningequality.org/Math/Numbers/\n",
      "Downloading page with url http://chef-take-home-test.learningequality.org/Math/Functions/\n",
      "Downloading page with url http://chef-take-home-test.learningequality.org/Math/Vectors_overview/\n",
      "Downloading page with url http://chef-take-home-test.learningequality.org/Science/Biology/\n",
      "Downloading page with url http://chef-take-home-test.learningequality.org/Science/Chemistry/\n",
      "Downloading page with url http://chef-take-home-test.learningequality.org/Science/Physics/\n",
      "Downloading page with url http://chef-take-home-test.learningequality.org/Math/Numbers/Numbers_Overview/\n",
      "Downloading page with url http://chef-take-home-test.learningequality.org/Math/Numbers/Classifying_numbers/\n",
      "Downloading page with url http://chef-take-home-test.learningequality.org/Math/Functions/Functions_overview/\n",
      "Downloading page with url http://chef-take-home-test.learningequality.org/Science/Biology/Whale_sounds/\n",
      "Downloading page with url http://chef-take-home-test.learningequality.org/Science/Chemistry/Organic_chemistry/\n",
      "Downloading page with url http://chef-take-home-test.learningequality.org/Science/Physics/Wave_particle_duality/\n"
     ]
    },
    {
     "ename": "NameError",
     "evalue": "name 'channel_dict' is not defined",
     "output_type": "error",
     "traceback": [
      "\u001b[0;31m---------------------------------------------------------------------------\u001b[0m",
      "\u001b[0;31mNameError\u001b[0m                                 Traceback (most recent call last)",
      "\u001b[0;32m<ipython-input-3-ec5f1a88ee0f>\u001b[0m in \u001b[0;36m<module>\u001b[0;34m()\u001b[0m\n\u001b[1;32m      3\u001b[0m         \u001b[0mmain_source_domain\u001b[0m\u001b[0;34m=\u001b[0m\u001b[0;34m'http://chef-take-home-test.learningequality.org'\u001b[0m\u001b[0;34m,\u001b[0m\u001b[0;34m\u001b[0m\u001b[0m\n\u001b[1;32m      4\u001b[0m         start_page='http://chef-take-home-test.learningequality.org/')\n\u001b[0;32m----> 5\u001b[0;31m \u001b[0mchannel_tree\u001b[0m \u001b[0;34m=\u001b[0m \u001b[0mcrawler\u001b[0m\u001b[0;34m.\u001b[0m\u001b[0mcrawl\u001b[0m\u001b[0;34m(\u001b[0m\u001b[0mlimit\u001b[0m\u001b[0;34m=\u001b[0m\u001b[0;36m1000\u001b[0m\u001b[0;34m)\u001b[0m\u001b[0;34m\u001b[0m\u001b[0m\n\u001b[0m\u001b[1;32m      6\u001b[0m \u001b[0;34m\u001b[0m\u001b[0m\n",
      "\u001b[0;32m~/Projects/FLECode/BasicCrawler/notebooks/crawler.py\u001b[0m in \u001b[0;36mcrawl\u001b[0;34m(self, limit, save_web_resource_tree)\u001b[0m\n\u001b[1;32m    425\u001b[0m                 \u001b[0mos\u001b[0m\u001b[0;34m.\u001b[0m\u001b[0mmakedirs\u001b[0m\u001b[0;34m(\u001b[0m\u001b[0mparent_dir\u001b[0m\u001b[0;34m,\u001b[0m \u001b[0mexist_ok\u001b[0m\u001b[0;34m=\u001b[0m\u001b[0;32mTrue\u001b[0m\u001b[0;34m)\u001b[0m\u001b[0;34m\u001b[0m\u001b[0m\n\u001b[1;32m    426\u001b[0m             \u001b[0;32mwith\u001b[0m \u001b[0mopen\u001b[0m\u001b[0;34m(\u001b[0m\u001b[0mdestpath\u001b[0m\u001b[0;34m,\u001b[0m \u001b[0;34m'w'\u001b[0m\u001b[0;34m)\u001b[0m \u001b[0;32mas\u001b[0m \u001b[0mwrt_file\u001b[0m\u001b[0;34m:\u001b[0m\u001b[0;34m\u001b[0m\u001b[0m\n\u001b[0;32m--> 427\u001b[0;31m                 \u001b[0mjson\u001b[0m\u001b[0;34m.\u001b[0m\u001b[0mdump\u001b[0m\u001b[0;34m(\u001b[0m\u001b[0mchannel_dict\u001b[0m\u001b[0;34m,\u001b[0m \u001b[0mwrt_file\u001b[0m\u001b[0;34m,\u001b[0m \u001b[0mindent\u001b[0m\u001b[0;34m=\u001b[0m\u001b[0;36m2\u001b[0m\u001b[0;34m)\u001b[0m\u001b[0;34m\u001b[0m\u001b[0m\n\u001b[0m\u001b[1;32m    428\u001b[0m \u001b[0;34m\u001b[0m\u001b[0m\n\u001b[1;32m    429\u001b[0m         \u001b[0;32mreturn\u001b[0m \u001b[0mchennel_dict\u001b[0m\u001b[0;34m\u001b[0m\u001b[0m\n",
      "\u001b[0;31mNameError\u001b[0m: name 'channel_dict' is not defined"
     ]
    }
   ],
   "source": [
    "\n",
    "crawler = BasicCrawler(\n",
    "        main_source_domain='http://chef-take-home-test.learningequality.org',\n",
    "        start_page='http://chef-take-home-test.learningequality.org/')\n",
    "channel_tree = crawler.crawl(limit=1000)\n",
    "\n"
   ]
  },
  {
   "cell_type": "code",
   "execution_count": null,
   "metadata": {},
   "outputs": [],
   "source": [
    "print(json.dumps(channel_tree, indent =2))"
   ]
  },
  {
   "cell_type": "code",
   "execution_count": null,
   "metadata": {},
   "outputs": [],
   "source": [
    "from crawler import BasicCrawler\n",
    "\n",
    "skills_crawler = BasicCrawler(\n",
    "        main_source_domain='https://applieddigitalskills.withgoogle.com',\n",
    "        start_page='https://applieddigitalskills.withgoogle.com/en/curriculum')\n",
    "\n",
    "# undomment below\n",
    "# skills_channel_tree = skills_crawler.crawl(limit=1000)\n",
    "# skills_crawler.print_tree(skills_channel_tree, print_depth=2)"
   ]
  },
  {
   "cell_type": "code",
   "execution_count": null,
   "metadata": {
    "scrolled": true
   },
   "outputs": [],
   "source": []
  },
  {
   "cell_type": "code",
   "execution_count": null,
   "metadata": {
    "scrolled": false
   },
   "outputs": [],
   "source": [
    "from crawler import BasicCrawler\n",
    "\n",
    "tahrir_crawler = BasicCrawler(main_source_domain='http://tahriracademy.org', start_page='http://tahriracademy.org/')\n",
    "tahrir_channel_tree = tahrir_crawler.crawl(limit=10000)"
   ]
  },
  {
   "cell_type": "code",
   "execution_count": null,
   "metadata": {},
   "outputs": [],
   "source": [
    "tahrir_channel_tree"
   ]
  },
  {
   "cell_type": "code",
   "execution_count": null,
   "metadata": {
    "scrolled": true
   },
   "outputs": [],
   "source": [
    "tahrir_crawler.print_tree(tahrir_channel_tree, print_depth=2)"
   ]
  },
  {
   "cell_type": "code",
   "execution_count": null,
   "metadata": {},
   "outputs": [],
   "source": [
    "top_pats = tahrir_crawler.infer_tree_structure(tahrir_channel_tree)\n",
    "top_pats"
   ]
  },
  {
   "cell_type": "code",
   "execution_count": null,
   "metadata": {
    "scrolled": true
   },
   "outputs": [],
   "source": []
  },
  {
   "cell_type": "code",
   "execution_count": null,
   "metadata": {},
   "outputs": [],
   "source": [
    "import re\n",
    "from crawler import BasicCrawler\n",
    "\n",
    "\n",
    "le_crawler = BasicCrawler(main_source_domain='https://learningequality.org')\n",
    "le_crawler.IGNORE_URL_PATTERNS.append(re.compile('.*cdn-cgi/l/email-protection.*'))\n",
    "le_channel_tree = le_crawler.crawl(limit=10000)"
   ]
  },
  {
   "cell_type": "code",
   "execution_count": null,
   "metadata": {
    "scrolled": false
   },
   "outputs": [],
   "source": [
    "le_crawler.print_tree(le_channel_tree, print_depth=5)"
   ]
  },
  {
   "cell_type": "code",
   "execution_count": null,
   "metadata": {},
   "outputs": [],
   "source": [
    "le_crawler.infer_tree_structure(le_channel_tree)\n"
   ]
  },
  {
   "cell_type": "code",
   "execution_count": null,
   "metadata": {},
   "outputs": [],
   "source": []
  },
  {
   "cell_type": "code",
   "execution_count": null,
   "metadata": {},
   "outputs": [],
   "source": []
  },
  {
   "cell_type": "code",
   "execution_count": null,
   "metadata": {
    "scrolled": false
   },
   "outputs": [],
   "source": [
    "import re\n",
    "from crawler import BasicCrawler\n",
    "\n",
    "ict_crawler = BasicCrawler(\n",
    "        main_source_domain='https://ict-essentials-for-teachers.moodlecloud.com',\n",
    "        start_page='https://ict-essentials-for-teachers.moodlecloud.com/')\n",
    "ict_crawler.IGNORE_URL_PATTERNS.append(re.compile('.*[\\?&]lang=.*'))\n",
    "ict_crawler.IGNORE_URL_PATTERNS.append(re.compile('.*calendar/set\\.php.*'))\n",
    "ict_crawler.IGNORE_URL_PATTERNS.append(re.compile('.*calendar/view\\.php.*'))\n",
    "ict_channel_tree = ict_crawler.crawl(limit=1000)\n"
   ]
  },
  {
   "cell_type": "code",
   "execution_count": null,
   "metadata": {
    "scrolled": false
   },
   "outputs": [],
   "source": [
    "ict_crawler.print_tree(ict_channel_tree, print_depth=2)"
   ]
  },
  {
   "cell_type": "code",
   "execution_count": null,
   "metadata": {},
   "outputs": [],
   "source": [
    "ict_crawler.infer_tree_structure(ict_channel_tree)\n"
   ]
  },
  {
   "cell_type": "code",
   "execution_count": null,
   "metadata": {},
   "outputs": [],
   "source": []
  },
  {
   "cell_type": "code",
   "execution_count": null,
   "metadata": {},
   "outputs": [],
   "source": []
  },
  {
   "cell_type": "code",
   "execution_count": null,
   "metadata": {},
   "outputs": [],
   "source": []
  }
 ],
 "metadata": {
  "kernelspec": {
   "display_name": "Python 3",
   "language": "python",
   "name": "python3"
  },
  "language_info": {
   "codemirror_mode": {
    "name": "ipython",
    "version": 3
   },
   "file_extension": ".py",
   "mimetype": "text/x-python",
   "name": "python",
   "nbconvert_exporter": "python",
   "pygments_lexer": "ipython3",
   "version": "3.6.2"
  }
 },
 "nbformat": 4,
 "nbformat_minor": 2
}
