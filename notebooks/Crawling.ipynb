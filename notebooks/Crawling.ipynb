{
 "cells": [
  {
   "cell_type": "markdown",
   "metadata": {},
   "source": [
    "# Crawling tutorial\n",
    "\n",
    "A web scraper script is anlogous to a spider that crawls a website's graph of URLs.\n",
    "In this tutorial, we'll look at some examples of Python libraries for downloading and undestanding website stucture.\n",
    "\n",
    "For optimal viewing of this notebook, you should enable the custom \"wide format\":\n",
    "`cat wide_notebooks.css >> ../../venv/lib/python3.X/site-packages/notebook/static/custom/custom.css` (replace X with 4/5/6 depending on your version of Python)"
   ]
  },
  {
   "cell_type": "code",
   "execution_count": 1,
   "metadata": {},
   "outputs": [],
   "source": [
    "import json\n",
    "from crawler import BasicCrawler\n"
   ]
  },
  {
   "cell_type": "code",
   "execution_count": null,
   "metadata": {},
   "outputs": [],
   "source": []
  },
  {
   "cell_type": "code",
   "execution_count": 2,
   "metadata": {},
   "outputs": [
    {
     "name": "stdout",
     "output_type": "stream",
     "text": [
      "Downloading page with url http://chef-take-home-test.learningequality.org/\n",
      "Downloading page with url http://chef-take-home-test.learningequality.org/Math/\n",
      "Downloading page with url http://chef-take-home-test.learningequality.org/Science/\n",
      "Downloading page with url http://chef-take-home-test.learningequality.org/Math/Numbers/\n",
      "Downloading page with url http://chef-take-home-test.learningequality.org/Math/Functions/\n",
      "Downloading page with url http://chef-take-home-test.learningequality.org/Math/Vectors_overview/\n",
      "Downloading page with url http://chef-take-home-test.learningequality.org/Science/Biology/\n",
      "Downloading page with url http://chef-take-home-test.learningequality.org/Science/Chemistry/\n",
      "Downloading page with url http://chef-take-home-test.learningequality.org/Science/Physics/\n",
      "Downloading page with url http://chef-take-home-test.learningequality.org/Math/Numbers/Numbers_Overview/\n",
      "Downloading page with url http://chef-take-home-test.learningequality.org/Math/Numbers/Classifying_numbers/\n",
      "Downloading page with url http://chef-take-home-test.learningequality.org/Math/Functions/Functions_overview/\n",
      "Downloading page with url http://chef-take-home-test.learningequality.org/Science/Biology/Whale_sounds/\n",
      "Downloading page with url http://chef-take-home-test.learningequality.org/Science/Chemistry/Organic_chemistry/\n",
      "Downloading page with url http://chef-take-home-test.learningequality.org/Science/Physics/Wave_particle_duality/\n",
      "\n",
      "\n",
      "\n",
      "\n",
      "################################################################################\n",
      "# CRAWLER RECOMMENDATIONS BASED ON URLS ENCOUNTERED:\n",
      "################################################################################\n",
      "\n",
      "1. These URLs are very common and look like global navigation links:\n",
      "\n",
      "2. These are common path fragments found in URLs paths, so could correspond to site struture:\n",
      "  -  7 urls on site start with  /Science\n",
      "  -  7 urls on site start with  /Math\n",
      "  -  1 urls on site start with  /\n",
      "\n",
      "\n",
      "################################################################################\n",
      "\n",
      "\n",
      "\n"
     ]
    }
   ],
   "source": [
    "\n",
    "crawler = BasicCrawler(\n",
    "        main_source_domain='http://chef-take-home-test.learningequality.org',\n",
    "        start_page='http://chef-take-home-test.learningequality.org/')\n",
    "\n",
    "crawler.CRAWLING_STAGE_OUTPUT = 'chefdata/trees/takehome_web_resource_tree.json'\n",
    "\n",
    "channel_tree = crawler.crawl(limit=1000)\n",
    "\n"
   ]
  },
  {
   "cell_type": "code",
   "execution_count": 3,
   "metadata": {},
   "outputs": [
    {
     "name": "stdout",
     "output_type": "stream",
     "text": [
      "{\n",
      "  \"url\": \"THIS IS THE TOP LEVEL CONTAINER FOR THE CRAWLER OUTPUT. ITS UNIQUE CHILD NODE IS THE WEB ROOT.\",\n",
      "  \"title\": \"Website Title\",\n",
      "  \"children\": [\n",
      "    {\n",
      "      \"kind\": \"PageWebResource\",\n",
      "      \"url\": \"http://chef-take-home-test.learningequality.org/\",\n",
      "      \"children\": [\n",
      "        {\n",
      "          \"kind\": \"PageWebResource\",\n",
      "          \"url\": \"http://chef-take-home-test.learningequality.org/Math/\",\n",
      "          \"children\": [\n",
      "            {\n",
      "              \"kind\": \"PageWebResource\",\n",
      "              \"url\": \"http://chef-take-home-test.learningequality.org/Math/Numbers/\",\n",
      "              \"children\": [\n",
      "                {\n",
      "                  \"kind\": \"PageWebResource\",\n",
      "                  \"url\": \"http://chef-take-home-test.learningequality.org/Math/Numbers/Numbers_Overview/\",\n",
      "                  \"children\": []\n",
      "                },\n",
      "                {\n",
      "                  \"kind\": \"PageWebResource\",\n",
      "                  \"url\": \"http://chef-take-home-test.learningequality.org/Math/Numbers/Classifying_numbers/\",\n",
      "                  \"children\": []\n",
      "                }\n",
      "              ]\n",
      "            },\n",
      "            {\n",
      "              \"kind\": \"PageWebResource\",\n",
      "              \"url\": \"http://chef-take-home-test.learningequality.org/Math/Functions/\",\n",
      "              \"children\": [\n",
      "                {\n",
      "                  \"kind\": \"PageWebResource\",\n",
      "                  \"url\": \"http://chef-take-home-test.learningequality.org/Math/Functions/Functions_overview/\",\n",
      "                  \"children\": []\n",
      "                }\n",
      "              ]\n",
      "            },\n",
      "            {\n",
      "              \"kind\": \"PageWebResource\",\n",
      "              \"url\": \"http://chef-take-home-test.learningequality.org/Math/Vectors_overview/\",\n",
      "              \"children\": []\n",
      "            }\n",
      "          ]\n",
      "        },\n",
      "        {\n",
      "          \"kind\": \"PageWebResource\",\n",
      "          \"url\": \"http://chef-take-home-test.learningequality.org/Science/\",\n",
      "          \"children\": [\n",
      "            {\n",
      "              \"kind\": \"PageWebResource\",\n",
      "              \"url\": \"http://chef-take-home-test.learningequality.org/Science/Biology/\",\n",
      "              \"children\": [\n",
      "                {\n",
      "                  \"kind\": \"PageWebResource\",\n",
      "                  \"url\": \"http://chef-take-home-test.learningequality.org/Science/Biology/Whale_sounds/\",\n",
      "                  \"children\": []\n",
      "                }\n",
      "              ]\n",
      "            },\n",
      "            {\n",
      "              \"kind\": \"PageWebResource\",\n",
      "              \"url\": \"http://chef-take-home-test.learningequality.org/Science/Chemistry/\",\n",
      "              \"children\": [\n",
      "                {\n",
      "                  \"kind\": \"PageWebResource\",\n",
      "                  \"url\": \"http://chef-take-home-test.learningequality.org/Science/Chemistry/Organic_chemistry/\",\n",
      "                  \"children\": []\n",
      "                }\n",
      "              ]\n",
      "            },\n",
      "            {\n",
      "              \"kind\": \"PageWebResource\",\n",
      "              \"url\": \"http://chef-take-home-test.learningequality.org/Science/Physics/\",\n",
      "              \"children\": [\n",
      "                {\n",
      "                  \"kind\": \"PageWebResource\",\n",
      "                  \"url\": \"http://chef-take-home-test.learningequality.org/Science/Physics/Wave_particle_duality/\",\n",
      "                  \"children\": []\n",
      "                }\n",
      "              ]\n",
      "            }\n",
      "          ]\n",
      "        }\n",
      "      ]\n",
      "    }\n",
      "  ]\n",
      "}\n"
     ]
    }
   ],
   "source": [
    "print(json.dumps(channel_tree, indent =2))"
   ]
  },
  {
   "cell_type": "code",
   "execution_count": 4,
   "metadata": {},
   "outputs": [],
   "source": [
    "from crawler import BasicCrawler\n",
    "\n",
    "skills_crawler = BasicCrawler(\n",
    "        main_source_domain='https://applieddigitalskills.withgoogle.com',\n",
    "        start_page='https://applieddigitalskills.withgoogle.com/en/curriculum')\n",
    "\n",
    "# undomment below\n",
    "# skills_channel_tree = skills_crawler.crawl(limit=1000)\n",
    "# skills_crawler.print_tree(skills_channel_tree, print_depth=2)"
   ]
  },
  {
   "cell_type": "code",
   "execution_count": null,
   "metadata": {
    "scrolled": true
   },
   "outputs": [],
   "source": []
  },
  {
   "cell_type": "code",
   "execution_count": null,
   "metadata": {
    "scrolled": false
   },
   "outputs": [],
   "source": []
  },
  {
   "cell_type": "code",
   "execution_count": null,
   "metadata": {},
   "outputs": [],
   "source": []
  },
  {
   "cell_type": "code",
   "execution_count": null,
   "metadata": {
    "scrolled": true
   },
   "outputs": [],
   "source": []
  },
  {
   "cell_type": "code",
   "execution_count": null,
   "metadata": {},
   "outputs": [],
   "source": []
  },
  {
   "cell_type": "code",
   "execution_count": null,
   "metadata": {
    "scrolled": true
   },
   "outputs": [],
   "source": []
  },
  {
   "cell_type": "code",
   "execution_count": 5,
   "metadata": {},
   "outputs": [],
   "source": [
    "import re\n",
    "from crawler import BasicCrawler\n",
    "\n",
    "\n",
    "le_crawler = BasicCrawler(main_source_domain='https://learningequality.org')\n",
    "le_crawler.IGNORE_URL_PATTERNS.append(re.compile('.*cdn-cgi/l/email-protection.*'))\n",
    "le_crawler.CRAWLING_STAGE_OUTPUT = 'chefdata/trees/learningequality_web_resource_tree.json'\n",
    "\n",
    "# TODO: skip PDFs implement \n",
    "# le_channel_tree = le_crawler.crawl(limit=5000)"
   ]
  },
  {
   "cell_type": "code",
   "execution_count": 6,
   "metadata": {
    "scrolled": false
   },
   "outputs": [],
   "source": [
    "# le_crawler.print_tree(le_channel_tree, print_depth=5)"
   ]
  },
  {
   "cell_type": "code",
   "execution_count": 7,
   "metadata": {},
   "outputs": [],
   "source": [
    "# le_crawler.infer_tree_structure(le_channel_tree)\n"
   ]
  },
  {
   "cell_type": "code",
   "execution_count": null,
   "metadata": {},
   "outputs": [],
   "source": []
  },
  {
   "cell_type": "code",
   "execution_count": null,
   "metadata": {},
   "outputs": [],
   "source": []
  },
  {
   "cell_type": "code",
   "execution_count": 8,
   "metadata": {
    "scrolled": false
   },
   "outputs": [],
   "source": [
    "import re\n",
    "from crawler import BasicCrawler\n",
    "\n",
    "ict_crawler = BasicCrawler(\n",
    "        main_source_domain='https://ict-essentials-for-teachers.moodlecloud.com',\n",
    "        start_page='https://ict-essentials-for-teachers.moodlecloud.com/')\n",
    "ict_crawler.IGNORE_URL_PATTERNS.append(re.compile('.*[\\?&]lang=.*'))\n",
    "ict_crawler.IGNORE_URL_PATTERNS.append(re.compile('.*calendar/set\\.php.*'))\n",
    "ict_crawler.IGNORE_URL_PATTERNS.append(re.compile('.*calendar/view\\.php.*'))\n",
    "\n",
    "\n",
    "# ict_channel_tree = ict_crawler.crawl(limit=1000)\n"
   ]
  },
  {
   "cell_type": "code",
   "execution_count": 9,
   "metadata": {
    "scrolled": false
   },
   "outputs": [],
   "source": [
    "# ict_crawler.print_tree(ict_channel_tree, print_depth=2)"
   ]
  },
  {
   "cell_type": "code",
   "execution_count": 10,
   "metadata": {},
   "outputs": [],
   "source": [
    "# ict_crawler.infer_tree_structure(ict_channel_tree)\n"
   ]
  },
  {
   "cell_type": "code",
   "execution_count": null,
   "metadata": {},
   "outputs": [],
   "source": []
  },
  {
   "cell_type": "code",
   "execution_count": null,
   "metadata": {},
   "outputs": [],
   "source": []
  },
  {
   "cell_type": "code",
   "execution_count": null,
   "metadata": {},
   "outputs": [],
   "source": []
  }
 ],
 "metadata": {
  "kernelspec": {
   "display_name": "Python 3",
   "language": "python",
   "name": "python3"
  },
  "language_info": {
   "codemirror_mode": {
    "name": "ipython",
    "version": 3
   },
   "file_extension": ".py",
   "mimetype": "text/x-python",
   "name": "python",
   "nbconvert_exporter": "python",
   "pygments_lexer": "ipython3",
   "version": "3.6.2"
  }
 },
 "nbformat": 4,
 "nbformat_minor": 2
}
