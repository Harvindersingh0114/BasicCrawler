{
 "cells": [
  {
   "cell_type": "markdown",
   "metadata": {},
   "source": [
    "# Crawling tutorial\n",
    "\n",
    "A web scraper script is anlogous to a spider that crawls a website's graph of URLs.\n",
    "In this tutorial, we'll look at some examples of Python libraries for downloading and undestanding website stucture.\n",
    "\n",
    "For optimal viewing of this notebook, you should enable the custom \"wide format\":\n",
    "`cat wide_notebooks.css >> ../../venv/lib/python3.X/site-packages/notebook/static/custom/custom.css` (replace X with 4/5/6 depending on your version of Python)"
   ]
  },
  {
   "cell_type": "code",
   "execution_count": null,
   "metadata": {},
   "outputs": [],
   "source": [
    "from crawler import BaseCrawler\n",
    "\n",
    "skills_crawler = BaseCrawler(\n",
    "        main_source_domain='https://applieddigitalskills.withgoogle.com',\n",
    "        start_page='https://applieddigitalskills.withgoogle.com/en/curriculum')\n",
    "skills_channel_tree = skills_crawler.crawl(limit=1000)"
   ]
  },
  {
   "cell_type": "code",
   "execution_count": null,
   "metadata": {
    "scrolled": true
   },
   "outputs": [],
   "source": [
    "skills_crawler.print_tree(skills_channel_tree, print_depth=2)"
   ]
  },
  {
   "cell_type": "code",
   "execution_count": null,
   "metadata": {
    "scrolled": false
   },
   "outputs": [],
   "source": [
    "from crawler import BaseCrawler\n",
    "\n",
    "tahrir_crawler = BaseCrawler(main_source_domain='http://tahriracademy.org', start_page='http://tahriracademy.org/')\n",
    "tahrir_channel_tree = tahrir_crawler.crawl(limit=10000)"
   ]
  },
  {
   "cell_type": "code",
   "execution_count": null,
   "metadata": {},
   "outputs": [],
   "source": [
    "tahrir_channel_tree"
   ]
  },
  {
   "cell_type": "code",
   "execution_count": null,
   "metadata": {
    "scrolled": true
   },
   "outputs": [],
   "source": [
    "tahrir_crawler.print_tree(tahrir_channel_tree, print_depth=2)"
   ]
  },
  {
   "cell_type": "code",
   "execution_count": null,
   "metadata": {},
   "outputs": [],
   "source": [
    "top_pats = tahrir_crawler.infer_tree_structure(tahrir_channel_tree)\n",
    "top_pats"
   ]
  },
  {
   "cell_type": "code",
   "execution_count": null,
   "metadata": {
    "scrolled": true
   },
   "outputs": [],
   "source": []
  },
  {
   "cell_type": "code",
   "execution_count": null,
   "metadata": {},
   "outputs": [],
   "source": [
    "import re\n",
    "from crawler import BaseCrawler\n",
    "\n",
    "\n",
    "le_crawler = BaseCrawler(main_source_domain='https://learningequality.org')\n",
    "le_crawler.IGNORE_URL_PATTERNS.append(re.compile('.*cdn-cgi/l/email-protection.*'))\n",
    "le_channel_tree = le_crawler.crawl(limit=10000)"
   ]
  },
  {
   "cell_type": "code",
   "execution_count": null,
   "metadata": {
    "scrolled": false
   },
   "outputs": [],
   "source": [
    "le_crawler.print_tree(le_channel_tree, print_depth=5)"
   ]
  },
  {
   "cell_type": "code",
   "execution_count": null,
   "metadata": {},
   "outputs": [],
   "source": [
    "le_crawler.infer_tree_structure(le_channel_tree)\n"
   ]
  },
  {
   "cell_type": "code",
   "execution_count": null,
   "metadata": {},
   "outputs": [],
   "source": []
  },
  {
   "cell_type": "code",
   "execution_count": 3,
   "metadata": {},
   "outputs": [],
   "source": []
  },
  {
   "cell_type": "code",
   "execution_count": 2,
   "metadata": {
    "scrolled": false
   },
   "outputs": [
    {
     "name": "stdout",
     "output_type": "stream",
     "text": [
      "Downloading page with url https://ict-essentials-for-teachers.moodlecloud.com/\n",
      "Downloading page with url https://ict-essentials-for-teachers.moodlecloud.com\n",
      "Downloading page with url https://ict-essentials-for-teachers.moodlecloud.com/login/index.php\n",
      "Downloading page with url https://ict-essentials-for-teachers.moodlecloud.com/course/index.php?categoryid=4\n",
      "Downloading page with url https://ict-essentials-for-teachers.moodlecloud.com/course/index.php?categoryid=9\n",
      "Downloading page with url https://ict-essentials-for-teachers.moodlecloud.com/course/view.php?id=18\n",
      "Downloading page with url https://ict-essentials-for-teachers.moodlecloud.com/course/info.php?id=18\n",
      "Downloading page with url https://ict-essentials-for-teachers.moodlecloud.com/course/view.php?id=5\n",
      "Downloading page with url https://ict-essentials-for-teachers.moodlecloud.com/course/info.php?id=5\n",
      "Downloading page with url https://ict-essentials-for-teachers.moodlecloud.com/course/view.php?id=6\n",
      "Downloading page with url https://ict-essentials-for-teachers.moodlecloud.com/course/info.php?id=6\n",
      "Downloading page with url https://ict-essentials-for-teachers.moodlecloud.com/course/view.php?id=7\n",
      "Downloading page with url https://ict-essentials-for-teachers.moodlecloud.com/course/info.php?id=7\n",
      "Downloading page with url https://ict-essentials-for-teachers.moodlecloud.com/course/view.php?id=8\n",
      "Downloading page with url https://ict-essentials-for-teachers.moodlecloud.com/course/info.php?id=8\n",
      "Downloading page with url https://ict-essentials-for-teachers.moodlecloud.com/course/view.php?id=11\n",
      "Downloading page with url https://ict-essentials-for-teachers.moodlecloud.com/course/info.php?id=11\n",
      "Downloading page with url https://ict-essentials-for-teachers.moodlecloud.com/course/view.php?id=9\n",
      "Downloading page with url https://ict-essentials-for-teachers.moodlecloud.com/course/info.php?id=9\n",
      "Downloading page with url https://ict-essentials-for-teachers.moodlecloud.com/course/index.php?categoryid=10\n",
      "Downloading page with url https://ict-essentials-for-teachers.moodlecloud.com/course/view.php?id=10\n",
      "Downloading page with url https://ict-essentials-for-teachers.moodlecloud.com/course/info.php?id=10\n",
      "Downloading page with url https://ict-essentials-for-teachers.moodlecloud.com/course/view.php?id=3\n",
      "Downloading page with url https://ict-essentials-for-teachers.moodlecloud.com/course/info.php?id=3\n",
      "Downloading page with url https://ict-essentials-for-teachers.moodlecloud.com/course/view.php?id=15\n",
      "Downloading page with url https://ict-essentials-for-teachers.moodlecloud.com/course/info.php?id=15\n",
      "Downloading page with url https://ict-essentials-for-teachers.moodlecloud.com/course/view.php?id=14\n",
      "Downloading page with url https://ict-essentials-for-teachers.moodlecloud.com/course/info.php?id=14\n",
      "Downloading page with url https://ict-essentials-for-teachers.moodlecloud.com/course/view.php?id=12\n",
      "Downloading page with url https://ict-essentials-for-teachers.moodlecloud.com/course/info.php?id=12\n",
      "Downloading page with url https://ict-essentials-for-teachers.moodlecloud.com/course/view.php?id=16\n",
      "Downloading page with url https://ict-essentials-for-teachers.moodlecloud.com/course/info.php?id=16\n",
      "Downloading page with url https://ict-essentials-for-teachers.moodlecloud.com/course/view.php?id=13\n",
      "Downloading page with url https://ict-essentials-for-teachers.moodlecloud.com/course/info.php?id=13\n",
      "Downloading page with url https://ict-essentials-for-teachers.moodlecloud.com/course/view.php?id=17\n",
      "Downloading page with url https://ict-essentials-for-teachers.moodlecloud.com/course/info.php?id=17\n",
      "Downloading page with url https://ict-essentials-for-teachers.moodlecloud.com/course/index.php?categoryid=11\n",
      "Downloading page with url https://ict-essentials-for-teachers.moodlecloud.com/course/view.php?id=20\n",
      "Downloading page with url https://ict-essentials-for-teachers.moodlecloud.com/course/info.php?id=20\n",
      "Downloading page with url https://ict-essentials-for-teachers.moodlecloud.com/course/view.php?id=23\n",
      "Downloading page with url https://ict-essentials-for-teachers.moodlecloud.com/course/info.php?id=23\n",
      "Downloading page with url https://ict-essentials-for-teachers.moodlecloud.com/course/view.php?id=22\n",
      "Downloading page with url https://ict-essentials-for-teachers.moodlecloud.com/course/info.php?id=22\n",
      "Downloading page with url https://ict-essentials-for-teachers.moodlecloud.com/user/view.php?id=2&course=1\n",
      "Downloading page with url https://ict-essentials-for-teachers.moodlecloud.com/mod/url/view.php?id=140\n",
      "Downloading page with url https://ict-essentials-for-teachers.moodlecloud.com/mod/url/view.php?id=197\n",
      "Downloading page with url https://ict-essentials-for-teachers.moodlecloud.com/login/forgot_password.php\n",
      "Downloading page with url https://ict-essentials-for-teachers.moodlecloud.com/course/index.php\n",
      "Downloading page with url https://ict-essentials-for-teachers.moodlecloud.com/course/view.php?id=18#section-0\n",
      "Downloading page with url https://ict-essentials-for-teachers.moodlecloud.com/mod/forum/view.php?id=748\n",
      "Downloading page with url https://ict-essentials-for-teachers.moodlecloud.com/course/view.php?id=18#section-1\n",
      "Downloading page with url https://ict-essentials-for-teachers.moodlecloud.com/mod/quiz/view.php?id=823\n",
      "Downloading page with url https://ict-essentials-for-teachers.moodlecloud.com/course/view.php?id=18#section-2\n",
      "Downloading page with url https://ict-essentials-for-teachers.moodlecloud.com/mod/url/view.php?id=432\n",
      "Downloading page with url https://ict-essentials-for-teachers.moodlecloud.com/course/view.php?id=18#section-3\n",
      "Downloading page with url https://ict-essentials-for-teachers.moodlecloud.com/mod/resource/view.php?id=372\n"
     ]
    },
    {
     "name": "stderr",
     "output_type": "stream",
     "text": [
      "Some characters could not be decoded, and were replaced with REPLACEMENT CHARACTER.\n"
     ]
    },
    {
     "name": "stdout",
     "output_type": "stream",
     "text": [
      "Downloading page with url https://ict-essentials-for-teachers.moodlecloud.com/mod/resource/view.php?id=438\n"
     ]
    },
    {
     "name": "stderr",
     "output_type": "stream",
     "text": [
      "Some characters could not be decoded, and were replaced with REPLACEMENT CHARACTER.\n"
     ]
    },
    {
     "name": "stdout",
     "output_type": "stream",
     "text": [
      "Downloading page with url https://ict-essentials-for-teachers.moodlecloud.com/course/view.php?id=18#section-4\n",
      "Downloading page with url https://ict-essentials-for-teachers.moodlecloud.com/mod/resource/view.php?id=439\n"
     ]
    },
    {
     "name": "stderr",
     "output_type": "stream",
     "text": [
      "Some characters could not be decoded, and were replaced with REPLACEMENT CHARACTER.\n"
     ]
    },
    {
     "name": "stdout",
     "output_type": "stream",
     "text": [
      "Downloading page with url https://ict-essentials-for-teachers.moodlecloud.com/mod/page/view.php?id=440\n",
      "Downloading page with url https://ict-essentials-for-teachers.moodlecloud.com/course/view.php?id=18#section-5\n",
      "Downloading page with url https://ict-essentials-for-teachers.moodlecloud.com/mod/chat/view.php?id=388\n",
      "Downloading page with url https://ict-essentials-for-teachers.moodlecloud.com/mod/page/view.php?id=390\n",
      "Downloading page with url https://ict-essentials-for-teachers.moodlecloud.com/mod/forum/view.php?id=392\n",
      "Downloading page with url https://ict-essentials-for-teachers.moodlecloud.com/mod/assign/view.php?id=396\n",
      "Downloading page with url https://ict-essentials-for-teachers.moodlecloud.com/course/view.php?id=18#section-6\n",
      "Downloading page with url https://ict-essentials-for-teachers.moodlecloud.com/mod/page/view.php?id=412\n",
      "Downloading page with url https://ict-essentials-for-teachers.moodlecloud.com/mod/resource/view.php?id=415\n"
     ]
    },
    {
     "name": "stderr",
     "output_type": "stream",
     "text": [
      "Some characters could not be decoded, and were replaced with REPLACEMENT CHARACTER.\n"
     ]
    },
    {
     "name": "stdout",
     "output_type": "stream",
     "text": [
      "Downloading page with url https://ict-essentials-for-teachers.moodlecloud.com/course/view.php?id=18#section-7\n",
      "Downloading page with url https://ict-essentials-for-teachers.moodlecloud.com/course/view.php?id=18#section-8\n",
      "Downloading page with url https://ict-essentials-for-teachers.moodlecloud.com/course/view.php?id=5#section-0\n",
      "Downloading page with url https://ict-essentials-for-teachers.moodlecloud.com/course/view.php?id=5#section-1\n",
      "Downloading page with url https://ict-essentials-for-teachers.moodlecloud.com/course/view.php?id=5#section-2\n",
      "Downloading page with url https://ict-essentials-for-teachers.moodlecloud.com/mod/page/view.php?id=54\n",
      "Downloading page with url https://ict-essentials-for-teachers.moodlecloud.com/mod/page/view.php?id=55\n",
      "Downloading page with url https://ict-essentials-for-teachers.moodlecloud.com/mod/page/view.php?id=56\n",
      "Downloading page with url https://ict-essentials-for-teachers.moodlecloud.com/mod/url/view.php?id=57\n",
      "Downloading page with url https://ict-essentials-for-teachers.moodlecloud.com/course/view.php?id=5#section-3\n",
      "Downloading page with url https://ict-essentials-for-teachers.moodlecloud.com/mod/url/view.php?id=60\n",
      "Downloading page with url https://ict-essentials-for-teachers.moodlecloud.com/mod/assign/view.php?id=446\n",
      "Downloading page with url https://ict-essentials-for-teachers.moodlecloud.com/course/view.php?id=5#section-4\n",
      "Downloading page with url https://ict-essentials-for-teachers.moodlecloud.com/mod/page/view.php?id=63\n",
      "Downloading page with url https://ict-essentials-for-teachers.moodlecloud.com/mod/url/view.php?id=64\n",
      "Downloading page with url https://ict-essentials-for-teachers.moodlecloud.com/course/view.php?id=5#section-5\n",
      "Downloading page with url https://ict-essentials-for-teachers.moodlecloud.com/course/view.php?id=5#section-6\n",
      "Downloading page with url https://ict-essentials-for-teachers.moodlecloud.com/mod/quiz/view.php?id=69\n",
      "Downloading page with url https://ict-essentials-for-teachers.moodlecloud.com/mod/resource/view.php?id=70\n"
     ]
    },
    {
     "name": "stderr",
     "output_type": "stream",
     "text": [
      "Some characters could not be decoded, and were replaced with REPLACEMENT CHARACTER.\n"
     ]
    },
    {
     "name": "stdout",
     "output_type": "stream",
     "text": [
      "Downloading page with url https://ict-essentials-for-teachers.moodlecloud.com/mod/resource/view.php?id=71\n",
      "Downloading page with url https://ict-essentials-for-teachers.moodlecloud.com/course/view.php?id=5#section-7\n",
      "Downloading page with url https://ict-essentials-for-teachers.moodlecloud.com/mod/forum/view.php?id=74\n",
      "Downloading page with url https://ict-essentials-for-teachers.moodlecloud.com/course/view.php?id=5#section-8\n",
      "Downloading page with url https://ict-essentials-for-teachers.moodlecloud.com/course/view.php?id=5#section-9\n",
      "Downloading page with url https://ict-essentials-for-teachers.moodlecloud.com/course/view.php?id=6#section-0\n",
      "Downloading page with url https://ict-essentials-for-teachers.moodlecloud.com/course/view.php?id=6#section-1\n",
      "Downloading page with url https://ict-essentials-for-teachers.moodlecloud.com/course/view.php?id=6#section-2\n",
      "Downloading page with url https://ict-essentials-for-teachers.moodlecloud.com/mod/url/view.php?id=82\n",
      "Downloading page with url https://ict-essentials-for-teachers.moodlecloud.com/mod/page/view.php?id=83\n",
      "Downloading page with url https://ict-essentials-for-teachers.moodlecloud.com/course/view.php?id=6#section-3\n",
      "Downloading page with url https://ict-essentials-for-teachers.moodlecloud.com/mod/url/view.php?id=88\n",
      "Downloading page with url https://ict-essentials-for-teachers.moodlecloud.com/mod/page/view.php?id=85\n",
      "Downloading page with url https://ict-essentials-for-teachers.moodlecloud.com/mod/quiz/view.php?id=89\n",
      "Downloading page with url https://ict-essentials-for-teachers.moodlecloud.com/course/view.php?id=6#section-4\n",
      "Downloading page with url https://ict-essentials-for-teachers.moodlecloud.com/mod/url/view.php?id=92\n",
      "Downloading page with url https://ict-essentials-for-teachers.moodlecloud.com/mod/url/view.php?id=93\n",
      "Downloading page with url https://ict-essentials-for-teachers.moodlecloud.com/course/view.php?id=6#section-5\n",
      "Downloading page with url https://ict-essentials-for-teachers.moodlecloud.com/mod/assign/view.php?id=101\n",
      "Downloading page with url https://ict-essentials-for-teachers.moodlecloud.com/mod/resource/view.php?id=102\n"
     ]
    },
    {
     "name": "stderr",
     "output_type": "stream",
     "text": [
      "Some characters could not be decoded, and were replaced with REPLACEMENT CHARACTER.\n"
     ]
    },
    {
     "name": "stdout",
     "output_type": "stream",
     "text": [
      "Downloading page with url https://ict-essentials-for-teachers.moodlecloud.com/course/view.php?id=6#section-6\n",
      "Downloading page with url https://ict-essentials-for-teachers.moodlecloud.com/course/view.php?id=6#section-7\n",
      "Downloading page with url https://ict-essentials-for-teachers.moodlecloud.com/course/view.php?id=7#section-0\n",
      "Downloading page with url https://ict-essentials-for-teachers.moodlecloud.com/mod/forum/view.php?id=725\n",
      "Downloading page with url https://ict-essentials-for-teachers.moodlecloud.com/course/view.php?id=7#section-1\n",
      "Downloading page with url https://ict-essentials-for-teachers.moodlecloud.com/mod/url/view.php?id=108\n",
      "Downloading page with url https://ict-essentials-for-teachers.moodlecloud.com/course/view.php?id=7#section-2\n",
      "Downloading page with url https://ict-essentials-for-teachers.moodlecloud.com/mod/url/view.php?id=111\n",
      "Downloading page with url https://ict-essentials-for-teachers.moodlecloud.com/course/view.php?id=7#section-3\n",
      "Downloading page with url https://ict-essentials-for-teachers.moodlecloud.com/mod/url/view.php?id=114\n",
      "Downloading page with url https://ict-essentials-for-teachers.moodlecloud.com/course/view.php?id=7#section-4\n",
      "Downloading page with url https://ict-essentials-for-teachers.moodlecloud.com/mod/url/view.php?id=117\n",
      "Downloading page with url https://ict-essentials-for-teachers.moodlecloud.com/course/view.php?id=7#section-5\n",
      "Downloading page with url https://ict-essentials-for-teachers.moodlecloud.com/mod/url/view.php?id=120\n",
      "Downloading page with url https://ict-essentials-for-teachers.moodlecloud.com/mod/assign/view.php?id=124\n",
      "Downloading page with url https://ict-essentials-for-teachers.moodlecloud.com/mod/forum/view.php?id=122\n",
      "Downloading page with url https://ict-essentials-for-teachers.moodlecloud.com/mod/resource/view.php?id=125\n"
     ]
    },
    {
     "name": "stderr",
     "output_type": "stream",
     "text": [
      "Some characters could not be decoded, and were replaced with REPLACEMENT CHARACTER.\n"
     ]
    },
    {
     "name": "stdout",
     "output_type": "stream",
     "text": [
      "Downloading page with url https://ict-essentials-for-teachers.moodlecloud.com/course/view.php?id=7#section-6\n",
      "Downloading page with url https://ict-essentials-for-teachers.moodlecloud.com/course/view.php?id=7#section-7\n",
      "Downloading page with url https://ict-essentials-for-teachers.moodlecloud.com/course/view.php?id=8#section-0\n",
      "Downloading page with url https://ict-essentials-for-teachers.moodlecloud.com/mod/forum/view.php?id=723\n",
      "Downloading page with url https://ict-essentials-for-teachers.moodlecloud.com/course/view.php?id=8#section-1\n",
      "Downloading page with url https://ict-essentials-for-teachers.moodlecloud.com/course/view.php?id=8#section-2\n",
      "Downloading page with url https://ict-essentials-for-teachers.moodlecloud.com/mod/url/view.php?id=644\n",
      "Downloading page with url https://ict-essentials-for-teachers.moodlecloud.com/course/view.php?id=8#section-3\n",
      "Downloading page with url https://ict-essentials-for-teachers.moodlecloud.com/mod/url/view.php?id=136\n",
      "Downloading page with url https://ict-essentials-for-teachers.moodlecloud.com/mod/url/view.php?id=137\n",
      "Downloading page with url https://ict-essentials-for-teachers.moodlecloud.com/mod/url/view.php?id=138\n",
      "Downloading page with url https://ict-essentials-for-teachers.moodlecloud.com/mod/url/view.php?id=139\n",
      "Downloading page with url https://ict-essentials-for-teachers.moodlecloud.com/mod/url/view.php?id=141\n",
      "Downloading page with url https://ict-essentials-for-teachers.moodlecloud.com/mod/url/view.php?id=142\n",
      "Downloading page with url https://ict-essentials-for-teachers.moodlecloud.com/mod/url/view.php?id=143\n",
      "Downloading page with url https://ict-essentials-for-teachers.moodlecloud.com/mod/url/view.php?id=144\n",
      "Downloading page with url https://ict-essentials-for-teachers.moodlecloud.com/mod/resource/view.php?id=791\n"
     ]
    },
    {
     "name": "stderr",
     "output_type": "stream",
     "text": [
      "Some characters could not be decoded, and were replaced with REPLACEMENT CHARACTER.\n"
     ]
    },
    {
     "name": "stdout",
     "output_type": "stream",
     "text": [
      "Downloading page with url https://ict-essentials-for-teachers.moodlecloud.com/mod/forum/view.php?id=145\n",
      "Downloading page with url https://ict-essentials-for-teachers.moodlecloud.com/course/view.php?id=8#section-4\n",
      "Downloading page with url https://ict-essentials-for-teachers.moodlecloud.com/mod/assign/view.php?id=148\n",
      "Downloading page with url https://ict-essentials-for-teachers.moodlecloud.com/mod/resource/view.php?id=153\n"
     ]
    },
    {
     "name": "stderr",
     "output_type": "stream",
     "text": [
      "Some characters could not be decoded, and were replaced with REPLACEMENT CHARACTER.\n"
     ]
    },
    {
     "name": "stdout",
     "output_type": "stream",
     "text": [
      "Downloading page with url https://ict-essentials-for-teachers.moodlecloud.com/course/view.php?id=8#section-5\n",
      "Downloading page with url https://ict-essentials-for-teachers.moodlecloud.com/mod/url/view.php?id=151\n",
      "Downloading page with url https://ict-essentials-for-teachers.moodlecloud.com/course/view.php?id=8#section-6\n",
      "Downloading page with url https://ict-essentials-for-teachers.moodlecloud.com/course/view.php?id=8#section-7\n",
      "Downloading page with url https://ict-essentials-for-teachers.moodlecloud.com/course/view.php?id=11#section-0\n",
      "Downloading page with url https://ict-essentials-for-teachers.moodlecloud.com/mod/forum/view.php?id=724\n",
      "Downloading page with url https://ict-essentials-for-teachers.moodlecloud.com/course/view.php?id=11#section-1\n",
      "Downloading page with url https://ict-essentials-for-teachers.moodlecloud.com/course/view.php?id=11#section-2\n",
      "Downloading page with url https://ict-essentials-for-teachers.moodlecloud.com/mod/url/view.php?id=792\n",
      "Downloading page with url https://ict-essentials-for-teachers.moodlecloud.com/mod/url/view.php?id=793\n",
      "Downloading page with url https://ict-essentials-for-teachers.moodlecloud.com/course/view.php?id=11#section-3\n",
      "Downloading page with url https://ict-essentials-for-teachers.moodlecloud.com/mod/resource/view.php?id=472\n"
     ]
    },
    {
     "name": "stderr",
     "output_type": "stream",
     "text": [
      "Some characters could not be decoded, and were replaced with REPLACEMENT CHARACTER.\n"
     ]
    },
    {
     "name": "stdout",
     "output_type": "stream",
     "text": [
      "Downloading page with url https://ict-essentials-for-teachers.moodlecloud.com/mod/page/view.php?id=794\n",
      "Downloading page with url https://ict-essentials-for-teachers.moodlecloud.com/mod/assign/view.php?id=212\n",
      "Downloading page with url https://ict-essentials-for-teachers.moodlecloud.com/mod/resource/view.php?id=213\n"
     ]
    },
    {
     "name": "stderr",
     "output_type": "stream",
     "text": [
      "Some characters could not be decoded, and were replaced with REPLACEMENT CHARACTER.\n"
     ]
    },
    {
     "name": "stdout",
     "output_type": "stream",
     "text": [
      "Downloading page with url https://ict-essentials-for-teachers.moodlecloud.com/mod/url/view.php?id=817\n",
      "Downloading page with url https://ict-essentials-for-teachers.moodlecloud.com/course/view.php?id=11#section-4\n",
      "Downloading page with url https://ict-essentials-for-teachers.moodlecloud.com/course/view.php?id=11#section-5\n",
      "Downloading page with url https://ict-essentials-for-teachers.moodlecloud.com/course/view.php?id=9#section-0\n",
      "Downloading page with url https://ict-essentials-for-teachers.moodlecloud.com/mod/forum/view.php?id=727\n",
      "Downloading page with url https://ict-essentials-for-teachers.moodlecloud.com/course/view.php?id=9#section-1\n",
      "Downloading page with url https://ict-essentials-for-teachers.moodlecloud.com/mod/url/view.php?id=160\n",
      "Downloading page with url https://ict-essentials-for-teachers.moodlecloud.com/mod/url/view.php?id=161\n",
      "Downloading page with url https://ict-essentials-for-teachers.moodlecloud.com/course/view.php?id=9#section-2\n",
      "Downloading page with url https://ict-essentials-for-teachers.moodlecloud.com/mod/url/view.php?id=164\n",
      "Downloading page with url https://ict-essentials-for-teachers.moodlecloud.com/mod/url/view.php?id=165\n",
      "Downloading page with url https://ict-essentials-for-teachers.moodlecloud.com/mod/url/view.php?id=166\n",
      "Downloading page with url https://ict-essentials-for-teachers.moodlecloud.com/mod/url/view.php?id=167\n",
      "Downloading page with url https://ict-essentials-for-teachers.moodlecloud.com/course/view.php?id=9#section-3\n",
      "Downloading page with url https://ict-essentials-for-teachers.moodlecloud.com/mod/url/view.php?id=171\n",
      "Downloading page with url https://ict-essentials-for-teachers.moodlecloud.com/course/view.php?id=9#section-4\n",
      "Downloading page with url https://ict-essentials-for-teachers.moodlecloud.com/mod/url/view.php?id=175\n",
      "Downloading page with url https://ict-essentials-for-teachers.moodlecloud.com/mod/url/view.php?id=174\n",
      "Downloading page with url https://ict-essentials-for-teachers.moodlecloud.com/course/view.php?id=9#section-5\n",
      "Downloading page with url https://ict-essentials-for-teachers.moodlecloud.com/mod/url/view.php?id=177\n",
      "Downloading page with url https://ict-essentials-for-teachers.moodlecloud.com/course/view.php?id=9#section-6\n",
      "Downloading page with url https://ict-essentials-for-teachers.moodlecloud.com/mod/resource/view.php?id=178\n"
     ]
    },
    {
     "name": "stderr",
     "output_type": "stream",
     "text": [
      "Some characters could not be decoded, and were replaced with REPLACEMENT CHARACTER.\n"
     ]
    },
    {
     "name": "stdout",
     "output_type": "stream",
     "text": [
      "Downloading page with url https://ict-essentials-for-teachers.moodlecloud.com/course/view.php?id=9#section-7\n",
      "Downloading page with url https://ict-essentials-for-teachers.moodlecloud.com/course/view.php?id=9#section-8\n",
      "Downloading page with url https://ict-essentials-for-teachers.moodlecloud.com/course/view.php?id=10#section-0\n",
      "Downloading page with url https://ict-essentials-for-teachers.moodlecloud.com/mod/forum/view.php?id=796\n",
      "Downloading page with url https://ict-essentials-for-teachers.moodlecloud.com/course/view.php?id=10#section-1\n",
      "Downloading page with url https://ict-essentials-for-teachers.moodlecloud.com/course/view.php?id=10#section-2\n",
      "Downloading page with url https://ict-essentials-for-teachers.moodlecloud.com/mod/url/view.php?id=188\n",
      "Downloading page with url https://ict-essentials-for-teachers.moodlecloud.com/mod/url/view.php?id=192\n",
      "Downloading page with url https://ict-essentials-for-teachers.moodlecloud.com/mod/url/view.php?id=193\n",
      "Downloading page with url https://ict-essentials-for-teachers.moodlecloud.com/mod/url/view.php?id=196\n",
      "Downloading page with url https://ict-essentials-for-teachers.moodlecloud.com/course/view.php?id=10#section-3\n",
      "Downloading page with url https://ict-essentials-for-teachers.moodlecloud.com/course/view.php?id=10#section-4\n",
      "Downloading page with url https://ict-essentials-for-teachers.moodlecloud.com/mod/resource/view.php?id=189\n"
     ]
    },
    {
     "name": "stderr",
     "output_type": "stream",
     "text": [
      "Some characters could not be decoded, and were replaced with REPLACEMENT CHARACTER.\n"
     ]
    },
    {
     "name": "stdout",
     "output_type": "stream",
     "text": [
      "Downloading page with url https://ict-essentials-for-teachers.moodlecloud.com/mod/assign/view.php?id=201\n",
      "Downloading page with url https://ict-essentials-for-teachers.moodlecloud.com/mod/resource/view.php?id=202\n"
     ]
    },
    {
     "name": "stderr",
     "output_type": "stream",
     "text": [
      "Some characters could not be decoded, and were replaced with REPLACEMENT CHARACTER.\n"
     ]
    },
    {
     "name": "stdout",
     "output_type": "stream",
     "text": [
      "Downloading page with url https://ict-essentials-for-teachers.moodlecloud.com/course/view.php?id=10#section-5\n",
      "Downloading page with url https://ict-essentials-for-teachers.moodlecloud.com/pluginfile.php/238/mod_resource/content/1/Paint-software-focus-on-literacy-and-numeracy-Primary-13-10.pdf\n"
     ]
    },
    {
     "name": "stderr",
     "output_type": "stream",
     "text": [
      "Some characters could not be decoded, and were replaced with REPLACEMENT CHARACTER.\n"
     ]
    },
    {
     "name": "stdout",
     "output_type": "stream",
     "text": [
      "Downloading page with url https://ict-essentials-for-teachers.moodlecloud.com/course/view.php?id=10#section-6\n",
      "Downloading page with url https://ict-essentials-for-teachers.moodlecloud.com/course/view.php?id=3#section-0\n",
      "Downloading page with url https://ict-essentials-for-teachers.moodlecloud.com/course/view.php?id=3#section-1\n",
      "Downloading page with url https://ict-essentials-for-teachers.moodlecloud.com/course/view.php?id=3#section-2\n",
      "Downloading page with url https://ict-essentials-for-teachers.moodlecloud.com/mod/resource/view.php?id=14\n"
     ]
    },
    {
     "name": "stderr",
     "output_type": "stream",
     "text": [
      "Some characters could not be decoded, and were replaced with REPLACEMENT CHARACTER.\n"
     ]
    },
    {
     "name": "stdout",
     "output_type": "stream",
     "text": [
      "Downloading page with url https://ict-essentials-for-teachers.moodlecloud.com/mod/resource/view.php?id=15\n"
     ]
    },
    {
     "name": "stderr",
     "output_type": "stream",
     "text": [
      "Some characters could not be decoded, and were replaced with REPLACEMENT CHARACTER.\n"
     ]
    },
    {
     "name": "stdout",
     "output_type": "stream",
     "text": [
      "Downloading page with url https://ict-essentials-for-teachers.moodlecloud.com/mod/resource/view.php?id=16\n"
     ]
    },
    {
     "name": "stderr",
     "output_type": "stream",
     "text": [
      "Some characters could not be decoded, and were replaced with REPLACEMENT CHARACTER.\n"
     ]
    },
    {
     "name": "stdout",
     "output_type": "stream",
     "text": [
      "Downloading page with url https://ict-essentials-for-teachers.moodlecloud.com/mod/resource/view.php?id=17\n"
     ]
    },
    {
     "name": "stderr",
     "output_type": "stream",
     "text": [
      "Some characters could not be decoded, and were replaced with REPLACEMENT CHARACTER.\n"
     ]
    },
    {
     "name": "stdout",
     "output_type": "stream",
     "text": [
      "Downloading page with url https://ict-essentials-for-teachers.moodlecloud.com/mod/resource/view.php?id=18\n"
     ]
    },
    {
     "name": "stderr",
     "output_type": "stream",
     "text": [
      "Some characters could not be decoded, and were replaced with REPLACEMENT CHARACTER.\n"
     ]
    },
    {
     "name": "stdout",
     "output_type": "stream",
     "text": [
      "Downloading page with url https://ict-essentials-for-teachers.moodlecloud.com/mod/resource/view.php?id=19\n"
     ]
    },
    {
     "name": "stderr",
     "output_type": "stream",
     "text": [
      "Some characters could not be decoded, and were replaced with REPLACEMENT CHARACTER.\n"
     ]
    },
    {
     "name": "stdout",
     "output_type": "stream",
     "text": [
      "Downloading page with url https://ict-essentials-for-teachers.moodlecloud.com/course/view.php?id=3#section-3\n",
      "Downloading page with url https://ict-essentials-for-teachers.moodlecloud.com/mod/forum/view.php?id=744\n",
      "Downloading page with url https://ict-essentials-for-teachers.moodlecloud.com/course/view.php?id=3#section-4\n",
      "Downloading page with url https://ict-essentials-for-teachers.moodlecloud.com/mod/url/view.php?id=24\n",
      "Downloading page with url https://ict-essentials-for-teachers.moodlecloud.com/mod/assign/view.php?id=28\n",
      "Downloading page with url https://ict-essentials-for-teachers.moodlecloud.com/mod/resource/view.php?id=29\n",
      "Downloading page with url https://ict-essentials-for-teachers.moodlecloud.com/course/view.php?id=3#section-5\n",
      "Downloading page with url https://ict-essentials-for-teachers.moodlecloud.com/course/view.php?id=3#section-6\n",
      "Downloading page with url https://ict-essentials-for-teachers.moodlecloud.com/course/view.php?id=3#section-7\n",
      "Downloading page with url https://ict-essentials-for-teachers.moodlecloud.com/course/view.php?id=15#section-0\n",
      "Downloading page with url https://ict-essentials-for-teachers.moodlecloud.com/course/view.php?id=15#section-1\n",
      "Downloading page with url https://ict-essentials-for-teachers.moodlecloud.com/mod/url/view.php?id=297\n",
      "Downloading page with url https://ict-essentials-for-teachers.moodlecloud.com/mod/url/view.php?id=298\n",
      "Downloading page with url https://ict-essentials-for-teachers.moodlecloud.com/mod/url/view.php?id=299\n",
      "Downloading page with url https://ict-essentials-for-teachers.moodlecloud.com/course/view.php?id=15#section-2\n",
      "Downloading page with url https://ict-essentials-for-teachers.moodlecloud.com/mod/resource/view.php?id=302\n"
     ]
    },
    {
     "name": "stderr",
     "output_type": "stream",
     "text": [
      "Some characters could not be decoded, and were replaced with REPLACEMENT CHARACTER.\n"
     ]
    },
    {
     "name": "stdout",
     "output_type": "stream",
     "text": [
      "Downloading page with url https://ict-essentials-for-teachers.moodlecloud.com/mod/url/view.php?id=303\n",
      "Downloading page with url https://ict-essentials-for-teachers.moodlecloud.com/mod/resource/view.php?id=305\n"
     ]
    },
    {
     "name": "stderr",
     "output_type": "stream",
     "text": [
      "Some characters could not be decoded, and were replaced with REPLACEMENT CHARACTER.\n"
     ]
    },
    {
     "name": "stdout",
     "output_type": "stream",
     "text": [
      "Downloading page with url https://ict-essentials-for-teachers.moodlecloud.com/course/view.php?id=15#section-3\n",
      "Downloading page with url https://ict-essentials-for-teachers.moodlecloud.com/course/view.php?id=15#section-4\n",
      "Downloading page with url https://ict-essentials-for-teachers.moodlecloud.com/mod/resource/view.php?id=310\n"
     ]
    },
    {
     "name": "stderr",
     "output_type": "stream",
     "text": [
      "Some characters could not be decoded, and were replaced with REPLACEMENT CHARACTER.\n"
     ]
    },
    {
     "name": "stdout",
     "output_type": "stream",
     "text": [
      "Downloading page with url https://ict-essentials-for-teachers.moodlecloud.com/mod/assign/view.php?id=312\n",
      "Downloading page with url https://ict-essentials-for-teachers.moodlecloud.com/mod/resource/view.php?id=313\n"
     ]
    },
    {
     "name": "stderr",
     "output_type": "stream",
     "text": [
      "Some characters could not be decoded, and were replaced with REPLACEMENT CHARACTER.\n"
     ]
    },
    {
     "name": "stdout",
     "output_type": "stream",
     "text": [
      "Downloading page with url https://ict-essentials-for-teachers.moodlecloud.com/course/view.php?id=15#section-5\n",
      "Downloading page with url https://ict-essentials-for-teachers.moodlecloud.com/course/view.php?id=15#section-6\n",
      "Downloading page with url https://ict-essentials-for-teachers.moodlecloud.com/course/view.php?id=15#section-7\n",
      "Downloading page with url https://ict-essentials-for-teachers.moodlecloud.com/course/view.php?id=14#section-0\n",
      "Downloading page with url https://ict-essentials-for-teachers.moodlecloud.com/mod/forum/view.php?id=798\n",
      "Downloading page with url https://ict-essentials-for-teachers.moodlecloud.com/course/view.php?id=14#section-1\n",
      "Downloading page with url https://ict-essentials-for-teachers.moodlecloud.com/course/view.php?id=14#section-2\n",
      "Downloading page with url https://ict-essentials-for-teachers.moodlecloud.com/mod/url/view.php?id=639\n",
      "Downloading page with url https://ict-essentials-for-teachers.moodlecloud.com/mod/forum/view.php?id=272\n",
      "Downloading page with url https://ict-essentials-for-teachers.moodlecloud.com/course/view.php?id=14#section-3\n",
      "Downloading page with url https://ict-essentials-for-teachers.moodlecloud.com/mod/url/view.php?id=634\n",
      "Downloading page with url https://ict-essentials-for-teachers.moodlecloud.com/mod/url/view.php?id=635\n",
      "Downloading page with url https://ict-essentials-for-teachers.moodlecloud.com/mod/url/view.php?id=636\n",
      "Downloading page with url https://ict-essentials-for-teachers.moodlecloud.com/mod/url/view.php?id=799\n",
      "Downloading page with url https://ict-essentials-for-teachers.moodlecloud.com/mod/forum/view.php?id=637\n",
      "Downloading page with url https://ict-essentials-for-teachers.moodlecloud.com/course/view.php?id=14#section-4\n",
      "Downloading page with url https://ict-essentials-for-teachers.moodlecloud.com/mod/url/view.php?id=638\n",
      "Downloading page with url https://ict-essentials-for-teachers.moodlecloud.com/course/view.php?id=14#section-5\n",
      "Downloading page with url https://ict-essentials-for-teachers.moodlecloud.com/mod/url/view.php?id=551\n",
      "Downloading page with url https://ict-essentials-for-teachers.moodlecloud.com/mod/url/view.php?id=550\n",
      "Downloading page with url https://ict-essentials-for-teachers.moodlecloud.com/mod/url/view.php?id=552\n",
      "Downloading page with url https://ict-essentials-for-teachers.moodlecloud.com/mod/forum/view.php?id=282\n",
      "Downloading page with url https://ict-essentials-for-teachers.moodlecloud.com/course/view.php?id=14#section-6\n",
      "Downloading page with url https://ict-essentials-for-teachers.moodlecloud.com/mod/assign/view.php?id=289\n",
      "Downloading page with url https://ict-essentials-for-teachers.moodlecloud.com/mod/resource/view.php?id=290\n"
     ]
    },
    {
     "name": "stderr",
     "output_type": "stream",
     "text": [
      "Some characters could not be decoded, and were replaced with REPLACEMENT CHARACTER.\n"
     ]
    },
    {
     "name": "stdout",
     "output_type": "stream",
     "text": [
      "Downloading page with url https://ict-essentials-for-teachers.moodlecloud.com/course/view.php?id=14#section-7\n",
      "Downloading page with url https://ict-essentials-for-teachers.moodlecloud.com/course/view.php?id=14#section-8\n",
      "Downloading page with url https://ict-essentials-for-teachers.moodlecloud.com/course/view.php?id=14#section-9\n",
      "Downloading page with url https://ict-essentials-for-teachers.moodlecloud.com/course/view.php?id=12#section-0\n",
      "Downloading page with url https://ict-essentials-for-teachers.moodlecloud.com/mod/forum/view.php?id=806\n",
      "Downloading page with url https://ict-essentials-for-teachers.moodlecloud.com/course/view.php?id=12#section-1\n",
      "Downloading page with url https://ict-essentials-for-teachers.moodlecloud.com/course/view.php?id=12#section-2\n",
      "Downloading page with url https://ict-essentials-for-teachers.moodlecloud.com/mod/url/view.php?id=575\n",
      "Downloading page with url https://ict-essentials-for-teachers.moodlecloud.com/mod/url/view.php?id=802\n",
      "Downloading page with url https://ict-essentials-for-teachers.moodlecloud.com/mod/url/view.php?id=803\n",
      "Downloading page with url https://ict-essentials-for-teachers.moodlecloud.com/course/view.php?id=12#section-3\n",
      "Downloading page with url https://ict-essentials-for-teachers.moodlecloud.com/mod/forum/view.php?id=229\n",
      "Downloading page with url https://ict-essentials-for-teachers.moodlecloud.com/mod/resource/view.php?id=804\n"
     ]
    },
    {
     "name": "stderr",
     "output_type": "stream",
     "text": [
      "Some characters could not be decoded, and were replaced with REPLACEMENT CHARACTER.\n"
     ]
    },
    {
     "name": "stdout",
     "output_type": "stream",
     "text": [
      "Downloading page with url https://ict-essentials-for-teachers.moodlecloud.com/course/view.php?id=12#section-4\n",
      "Downloading page with url https://ict-essentials-for-teachers.moodlecloud.com/mod/resource/view.php?id=231\n"
     ]
    },
    {
     "name": "stderr",
     "output_type": "stream",
     "text": [
      "Some characters could not be decoded, and were replaced with REPLACEMENT CHARACTER.\n"
     ]
    },
    {
     "name": "stdout",
     "output_type": "stream",
     "text": [
      "Downloading page with url https://ict-essentials-for-teachers.moodlecloud.com/course/view.php?id=12#section-5\n",
      "Downloading page with url https://ict-essentials-for-teachers.moodlecloud.com/mod/url/view.php?id=234\n",
      "Downloading page with url https://ict-essentials-for-teachers.moodlecloud.com/mod/resource/view.php?id=235\n"
     ]
    },
    {
     "name": "stderr",
     "output_type": "stream",
     "text": [
      "Some characters could not be decoded, and were replaced with REPLACEMENT CHARACTER.\n"
     ]
    },
    {
     "name": "stdout",
     "output_type": "stream",
     "text": [
      "Downloading page with url https://ict-essentials-for-teachers.moodlecloud.com/course/view.php?id=12#section-6\n",
      "Downloading page with url https://ict-essentials-for-teachers.moodlecloud.com/mod/resource/view.php?id=805\n"
     ]
    },
    {
     "name": "stderr",
     "output_type": "stream",
     "text": [
      "Some characters could not be decoded, and were replaced with REPLACEMENT CHARACTER.\n"
     ]
    },
    {
     "name": "stdout",
     "output_type": "stream",
     "text": [
      "Downloading page with url https://ict-essentials-for-teachers.moodlecloud.com/mod/assign/view.php?id=474\n",
      "Downloading page with url https://ict-essentials-for-teachers.moodlecloud.com/mod/resource/view.php?id=239\n"
     ]
    },
    {
     "name": "stderr",
     "output_type": "stream",
     "text": [
      "Some characters could not be decoded, and were replaced with REPLACEMENT CHARACTER.\n"
     ]
    },
    {
     "name": "stdout",
     "output_type": "stream",
     "text": [
      "Downloading page with url https://ict-essentials-for-teachers.moodlecloud.com/course/view.php?id=12#section-7\n",
      "Downloading page with url https://ict-essentials-for-teachers.moodlecloud.com/course/view.php?id=12#section-8\n",
      "Downloading page with url https://ict-essentials-for-teachers.moodlecloud.com/course/view.php?id=16#section-0\n",
      "Downloading page with url https://ict-essentials-for-teachers.moodlecloud.com/mod/forum/view.php?id=728\n",
      "Downloading page with url https://ict-essentials-for-teachers.moodlecloud.com/course/view.php?id=16#section-1\n",
      "Downloading page with url https://ict-essentials-for-teachers.moodlecloud.com/course/view.php?id=16#section-2\n",
      "Downloading page with url https://ict-essentials-for-teachers.moodlecloud.com/mod/url/view.php?id=811\n",
      "Downloading page with url https://ict-essentials-for-teachers.moodlecloud.com/mod/url/view.php?id=812\n",
      "Downloading page with url https://ict-essentials-for-teachers.moodlecloud.com/mod/resource/view.php?id=818\n"
     ]
    },
    {
     "name": "stderr",
     "output_type": "stream",
     "text": [
      "Some characters could not be decoded, and were replaced with REPLACEMENT CHARACTER.\n"
     ]
    },
    {
     "name": "stdout",
     "output_type": "stream",
     "text": [
      "Downloading page with url https://ict-essentials-for-teachers.moodlecloud.com/mod/resource/view.php?id=819\n"
     ]
    },
    {
     "name": "stderr",
     "output_type": "stream",
     "text": [
      "Some characters could not be decoded, and were replaced with REPLACEMENT CHARACTER.\n"
     ]
    },
    {
     "name": "stdout",
     "output_type": "stream",
     "text": [
      "Downloading page with url https://ict-essentials-for-teachers.moodlecloud.com/mod/resource/view.php?id=820\n"
     ]
    },
    {
     "name": "stderr",
     "output_type": "stream",
     "text": [
      "Some characters could not be decoded, and were replaced with REPLACEMENT CHARACTER.\n"
     ]
    },
    {
     "name": "stdout",
     "output_type": "stream",
     "text": [
      "Downloading page with url https://ict-essentials-for-teachers.moodlecloud.com/mod/resource/view.php?id=821\n"
     ]
    },
    {
     "name": "stderr",
     "output_type": "stream",
     "text": [
      "Some characters could not be decoded, and were replaced with REPLACEMENT CHARACTER.\n"
     ]
    },
    {
     "name": "stdout",
     "output_type": "stream",
     "text": [
      "Downloading page with url https://ict-essentials-for-teachers.moodlecloud.com/mod/resource/view.php?id=822\n"
     ]
    },
    {
     "name": "stderr",
     "output_type": "stream",
     "text": [
      "Some characters could not be decoded, and were replaced with REPLACEMENT CHARACTER.\n"
     ]
    },
    {
     "name": "stdout",
     "output_type": "stream",
     "text": [
      "Downloading page with url https://ict-essentials-for-teachers.moodlecloud.com/mod/forum/view.php?id=329\n",
      "Downloading page with url https://ict-essentials-for-teachers.moodlecloud.com/course/view.php?id=16#section-3\n",
      "Downloading page with url https://ict-essentials-for-teachers.moodlecloud.com/mod/quiz/view.php?id=334\n",
      "Downloading page with url https://ict-essentials-for-teachers.moodlecloud.com/mod/url/view.php?id=814\n",
      "Downloading page with url https://ict-essentials-for-teachers.moodlecloud.com/mod/url/view.php?id=815\n",
      "Downloading page with url https://ict-essentials-for-teachers.moodlecloud.com/course/view.php?id=16#section-4\n",
      "Downloading page with url https://ict-essentials-for-teachers.moodlecloud.com/mod/assign/view.php?id=645\n",
      "Downloading page with url https://ict-essentials-for-teachers.moodlecloud.com/mod/resource/view.php?id=640\n"
     ]
    },
    {
     "name": "stderr",
     "output_type": "stream",
     "text": [
      "Some characters could not be decoded, and were replaced with REPLACEMENT CHARACTER.\n"
     ]
    },
    {
     "name": "stdout",
     "output_type": "stream",
     "text": [
      "Downloading page with url https://ict-essentials-for-teachers.moodlecloud.com/course/view.php?id=16#section-5\n",
      "Downloading page with url https://ict-essentials-for-teachers.moodlecloud.com/course/view.php?id=16#section-6\n",
      "Downloading page with url https://ict-essentials-for-teachers.moodlecloud.com/course/view.php?id=16#section-7\n",
      "Downloading page with url https://ict-essentials-for-teachers.moodlecloud.com/course/view.php?id=13#section-0\n",
      "Downloading page with url https://ict-essentials-for-teachers.moodlecloud.com/mod/forum/view.php?id=633\n",
      "Downloading page with url https://ict-essentials-for-teachers.moodlecloud.com/course/view.php?id=13#section-1\n",
      "Downloading page with url https://ict-essentials-for-teachers.moodlecloud.com/course/view.php?id=13#section-2\n",
      "Downloading page with url https://ict-essentials-for-teachers.moodlecloud.com/mod/url/view.php?id=248\n",
      "Downloading page with url https://ict-essentials-for-teachers.moodlecloud.com/mod/resource/view.php?id=249\n"
     ]
    },
    {
     "name": "stderr",
     "output_type": "stream",
     "text": [
      "Some characters could not be decoded, and were replaced with REPLACEMENT CHARACTER.\n"
     ]
    },
    {
     "name": "stdout",
     "output_type": "stream",
     "text": [
      "Downloading page with url https://ict-essentials-for-teachers.moodlecloud.com/mod/url/view.php?id=250\n",
      "Downloading page with url https://ict-essentials-for-teachers.moodlecloud.com/mod/forum/view.php?id=528\n",
      "Downloading page with url https://ict-essentials-for-teachers.moodlecloud.com/course/view.php?id=13#section-3\n",
      "Downloading page with url https://ict-essentials-for-teachers.moodlecloud.com/mod/url/view.php?id=253\n",
      "Downloading page with url https://ict-essentials-for-teachers.moodlecloud.com/mod/resource/view.php?id=254\n"
     ]
    },
    {
     "name": "stderr",
     "output_type": "stream",
     "text": [
      "Some characters could not be decoded, and were replaced with REPLACEMENT CHARACTER.\n"
     ]
    },
    {
     "name": "stdout",
     "output_type": "stream",
     "text": [
      "Downloading page with url https://ict-essentials-for-teachers.moodlecloud.com/mod/resource/view.php?id=255\n"
     ]
    },
    {
     "name": "stderr",
     "output_type": "stream",
     "text": [
      "Some characters could not be decoded, and were replaced with REPLACEMENT CHARACTER.\n"
     ]
    },
    {
     "name": "stdout",
     "output_type": "stream",
     "text": [
      "Downloading page with url https://ict-essentials-for-teachers.moodlecloud.com/mod/url/view.php?id=256\n",
      "Downloading page with url https://ict-essentials-for-teachers.moodlecloud.com/mod/url/view.php?id=257\n",
      "Downloading page with url https://ict-essentials-for-teachers.moodlecloud.com/mod/url/view.php?id=258\n",
      "Downloading page with url https://ict-essentials-for-teachers.moodlecloud.com/mod/forum/view.php?id=536\n",
      "Downloading page with url https://ict-essentials-for-teachers.moodlecloud.com/course/view.php?id=13#section-4\n",
      "Downloading page with url https://ict-essentials-for-teachers.moodlecloud.com/mod/url/view.php?id=545\n",
      "Downloading page with url https://ict-essentials-for-teachers.moodlecloud.com/mod/url/view.php?id=546\n",
      "Downloading page with url https://ict-essentials-for-teachers.moodlecloud.com/mod/url/view.php?id=547\n",
      "Downloading page with url https://ict-essentials-for-teachers.moodlecloud.com/mod/forum/view.php?id=807\n",
      "Downloading page with url https://ict-essentials-for-teachers.moodlecloud.com/course/view.php?id=13#section-5\n",
      "Downloading page with url https://ict-essentials-for-teachers.moodlecloud.com/mod/assign/view.php?id=262\n",
      "Downloading page with url https://ict-essentials-for-teachers.moodlecloud.com/mod/resource/view.php?id=263\n"
     ]
    },
    {
     "name": "stderr",
     "output_type": "stream",
     "text": [
      "Some characters could not be decoded, and were replaced with REPLACEMENT CHARACTER.\n"
     ]
    },
    {
     "name": "stdout",
     "output_type": "stream",
     "text": [
      "Downloading page with url https://ict-essentials-for-teachers.moodlecloud.com/course/view.php?id=13#section-6\n",
      "Downloading page with url https://ict-essentials-for-teachers.moodlecloud.com/course/view.php?id=13#section-7\n",
      "Downloading page with url https://ict-essentials-for-teachers.moodlecloud.com/course/view.php?id=17#section-0\n",
      "Downloading page with url https://ict-essentials-for-teachers.moodlecloud.com/mod/forum/view.php?id=732\n",
      "Downloading page with url https://ict-essentials-for-teachers.moodlecloud.com/course/view.php?id=17#section-1\n",
      "Downloading page with url https://ict-essentials-for-teachers.moodlecloud.com/course/view.php?id=17#section-2\n",
      "Downloading page with url https://ict-essentials-for-teachers.moodlecloud.com/mod/url/view.php?id=342\n",
      "Downloading page with url https://ict-essentials-for-teachers.moodlecloud.com/mod/url/view.php?id=343\n",
      "Downloading page with url https://ict-essentials-for-teachers.moodlecloud.com/mod/url/view.php?id=344\n",
      "Downloading page with url https://ict-essentials-for-teachers.moodlecloud.com/mod/url/view.php?id=345\n",
      "Downloading page with url https://ict-essentials-for-teachers.moodlecloud.com/mod/forum/view.php?id=347\n",
      "Downloading page with url https://ict-essentials-for-teachers.moodlecloud.com/course/view.php?id=17#section-3\n",
      "Downloading page with url https://ict-essentials-for-teachers.moodlecloud.com/mod/page/view.php?id=641\n",
      "Downloading page with url https://ict-essentials-for-teachers.moodlecloud.com/mod/url/view.php?id=642\n",
      "Downloading page with url https://ict-essentials-for-teachers.moodlecloud.com/mod/url/view.php?id=353\n",
      "Downloading page with url https://ict-essentials-for-teachers.moodlecloud.com/mod/forum/view.php?id=355\n",
      "Downloading page with url https://ict-essentials-for-teachers.moodlecloud.com/course/view.php?id=17#section-4\n",
      "Downloading page with url https://ict-essentials-for-teachers.moodlecloud.com/mod/url/view.php?id=643\n",
      "Downloading page with url https://ict-essentials-for-teachers.moodlecloud.com/mod/url/view.php?id=360\n",
      "Downloading page with url https://ict-essentials-for-teachers.moodlecloud.com/mod/assign/view.php?id=361\n",
      "Downloading page with url https://ict-essentials-for-teachers.moodlecloud.com/mod/resource/view.php?id=356\n"
     ]
    },
    {
     "name": "stderr",
     "output_type": "stream",
     "text": [
      "Some characters could not be decoded, and were replaced with REPLACEMENT CHARACTER.\n"
     ]
    },
    {
     "name": "stdout",
     "output_type": "stream",
     "text": [
      "Downloading page with url https://ict-essentials-for-teachers.moodlecloud.com/course/view.php?id=17#section-5\n",
      "Downloading page with url https://ict-essentials-for-teachers.moodlecloud.com/course/view.php?id=17#section-6\n",
      "Downloading page with url https://ict-essentials-for-teachers.moodlecloud.com/course/view.php?id=20#section-0\n",
      "Downloading page with url https://ict-essentials-for-teachers.moodlecloud.com/mod/forum/view.php?id=628\n",
      "Downloading page with url https://ict-essentials-for-teachers.moodlecloud.com/course/view.php?id=20#section-1\n",
      "Downloading page with url https://ict-essentials-for-teachers.moodlecloud.com/mod/url/view.php?id=579\n",
      "Downloading page with url https://ict-essentials-for-teachers.moodlecloud.com/course/view.php?id=23#section-0\n",
      "Downloading page with url https://ict-essentials-for-teachers.moodlecloud.com/mod/forum/view.php?id=626\n",
      "Downloading page with url https://ict-essentials-for-teachers.moodlecloud.com/course/view.php?id=23#section-1\n",
      "Downloading page with url https://ict-essentials-for-teachers.moodlecloud.com/mod/url/view.php?id=625\n",
      "Downloading page with url https://ict-essentials-for-teachers.moodlecloud.com/mod/url/view.php?id=646\n",
      "Downloading page with url https://ict-essentials-for-teachers.moodlecloud.com/mod/forum/discuss.php?d=6#p6\n",
      "Downloading page with url https://ict-essentials-for-teachers.moodlecloud.com/pluginfile.php/111/mod_resource/content/2/Assignment%20Marking%20Criteria%20for%20Unit%2002.docx\n"
     ]
    },
    {
     "name": "stderr",
     "output_type": "stream",
     "text": [
      "Some characters could not be decoded, and were replaced with REPLACEMENT CHARACTER.\n"
     ]
    },
    {
     "name": "stdout",
     "output_type": "stream",
     "text": [
      "Downloading page with url https://ict-essentials-for-teachers.moodlecloud.com/mod/forum/discuss.php?d=1#p1\n",
      "Downloading page with url https://ict-essentials-for-teachers.moodlecloud.com/mod/forum/discuss.php?d=2#p2\n",
      "Downloading page with url https://ict-essentials-for-teachers.moodlecloud.com/mod/forum/discuss.php?d=183\n",
      "Downloading page with url https://ict-essentials-for-teachers.moodlecloud.com/user/view.php?id=2&course=3\n",
      "Downloading page with url https://ict-essentials-for-teachers.moodlecloud.com/mod/forum/discuss.php?d=182\n",
      "Downloading page with url https://ict-essentials-for-teachers.moodlecloud.com/mod/forum/discuss.php?d=181\n",
      "Downloading page with url https://ict-essentials-for-teachers.moodlecloud.com/mod/forum/discuss.php?d=180\n",
      "Downloading page with url https://ict-essentials-for-teachers.moodlecloud.com/mod/forum/discuss.php?d=179\n",
      "Downloading page with url https://ict-essentials-for-teachers.moodlecloud.com/mod/forum/discuss.php?d=178\n",
      "Downloading page with url https://ict-essentials-for-teachers.moodlecloud.com/pluginfile.php/61/mod_resource/content/2/Portfolio%20Assignment%20Marking%20Criteria%20for%20Unit%2001.docx\n"
     ]
    },
    {
     "name": "stderr",
     "output_type": "stream",
     "text": [
      "Some characters could not be decoded, and were replaced with REPLACEMENT CHARACTER.\n"
     ]
    },
    {
     "name": "stdout",
     "output_type": "stream",
     "text": [
      "Downloading page with url https://ict-essentials-for-teachers.moodlecloud.com/mod/forum/discuss.php?d=3#p3\n",
      "Downloading page with url https://ict-essentials-for-teachers.moodlecloud.com/mod/forum/discuss.php?d=104#p280\n",
      "Downloading page with url https://ict-essentials-for-teachers.moodlecloud.com/mod/forum/discuss.php?d=4#p4\n",
      "Downloading page with url https://ict-essentials-for-teachers.moodlecloud.com/mod/forum/discuss.php?d=184#p708\n",
      "Downloading page with url https://ict-essentials-for-teachers.moodlecloud.com/mod/forum/discuss.php?d=185#p709\n",
      "Downloading page with url https://ict-essentials-for-teachers.moodlecloud.com/education/online-learning/topics/tips.aspx\n",
      "Downloading page with url https://ict-essentials-for-teachers.moodlecloud.com/education/online-learning/topics/doctorate.aspx\n",
      "Downloading page with url https://ict-essentials-for-teachers.moodlecloud.com/education/online-learning/topics/masters.aspx\n",
      "Downloading page with url https://ict-essentials-for-teachers.moodlecloud.com/education/online-learning/topics/associates.aspx\n",
      "Downloading page with url https://ict-essentials-for-teachers.moodlecloud.com/education/online-learning/topics/bachelors.aspx\n",
      "Downloading page with url https://ict-essentials-for-teachers.moodlecloud.com/education/online-learning/topics/certification.aspx\n",
      "Downloading page with url https://ict-essentials-for-teachers.moodlecloud.com/education/online-learning/topics/online-course.aspx\n",
      "Downloading page with url https://ict-essentials-for-teachers.moodlecloud.com/education/online-learning/topics/college-reviews.aspx\n",
      "Downloading page with url https://ict-essentials-for-teachers.moodlecloud.com/education/online-learning/topics/online-instructor.aspx\n",
      "Downloading page with url https://ict-essentials-for-teachers.moodlecloud.com/education/online-learning/topics/news-commentary.aspx\n",
      "Downloading page with url https://ict-essentials-for-teachers.moodlecloud.com//www.brighthub.com\n",
      "Downloading page with url https://ict-essentials-for-teachers.moodlecloud.com/privacy.html\n",
      "Downloading page with url https://ict-essentials-for-teachers.moodlecloud.com/community\n",
      "Downloading page with url https://ict-essentials-for-teachers.moodlecloud.com/video\n",
      "Downloading page with url https://ict-essentials-for-teachers.moodlecloud.com/parenting\n",
      "Downloading page with url https://ict-essentials-for-teachers.moodlecloud.com/parenting/pregnancy\n",
      "Downloading page with url https://ict-essentials-for-teachers.moodlecloud.com/parenting/baby-names\n",
      "Downloading page with url https://ict-essentials-for-teachers.moodlecloud.com/parenting/baby\n",
      "Downloading page with url https://ict-essentials-for-teachers.moodlecloud.com/parenting/parenting-tips-and-humor\n",
      "Downloading page with url https://ict-essentials-for-teachers.moodlecloud.com/parenting/preschoolers\n",
      "Downloading page with url https://ict-essentials-for-teachers.moodlecloud.com/parenting/k12\n",
      "Downloading page with url https://ict-essentials-for-teachers.moodlecloud.com/parenting/school-and-education\n",
      "Downloading page with url https://ict-essentials-for-teachers.moodlecloud.com/parenting/family-fun\n",
      "Downloading page with url https://ict-essentials-for-teachers.moodlecloud.com/parenting/mom-how-tos\n",
      "Downloading page with url https://ict-essentials-for-teachers.moodlecloud.com/food-and-recipes\n",
      "Downloading page with url https://ict-essentials-for-teachers.moodlecloud.com/food-and-recipes/entertaining\n",
      "Downloading page with url https://ict-essentials-for-teachers.moodlecloud.com/food-and-recipes/quick-and-easy-recipes\n",
      "Downloading page with url https://ict-essentials-for-teachers.moodlecloud.com/food-and-recipes/healthy-cooking-and-nutrition\n",
      "Downloading page with url https://ict-essentials-for-teachers.moodlecloud.com/food-and-recipes/brunch-recipes\n",
      "Downloading page with url https://ict-essentials-for-teachers.moodlecloud.com/food-and-recipes/drink-recipes\n",
      "Downloading page with url https://ict-essentials-for-teachers.moodlecloud.com/food-and-recipes/dessert-recipes\n",
      "Downloading page with url https://ict-essentials-for-teachers.moodlecloud.com/food-and-recipes/kitchen-and-cooking-tips\n",
      "Downloading page with url https://ict-essentials-for-teachers.moodlecloud.com/entertainment\n",
      "Downloading page with url https://ict-essentials-for-teachers.moodlecloud.com/entertainment/movies\n",
      "Downloading page with url https://ict-essentials-for-teachers.moodlecloud.com/entertainment/celebrities\n",
      "Downloading page with url https://ict-essentials-for-teachers.moodlecloud.com/entertainment/television\n",
      "Downloading page with url https://ict-essentials-for-teachers.moodlecloud.com/entertainment/books\n",
      "Downloading page with url https://ict-essentials-for-teachers.moodlecloud.com/entertainment/music\n",
      "Downloading page with url https://ict-essentials-for-teachers.moodlecloud.com/beauty-and-style\n",
      "Downloading page with url https://ict-essentials-for-teachers.moodlecloud.com/beauty-and-style/fashion-and-style\n",
      "Downloading page with url https://ict-essentials-for-teachers.moodlecloud.com/beauty-and-style/makeup-and-skincare\n",
      "Downloading page with url https://ict-essentials-for-teachers.moodlecloud.com/beauty-and-style/skincare\n",
      "Downloading page with url https://ict-essentials-for-teachers.moodlecloud.com/beauty-and-style/hairstyles-and-haircare\n",
      "Downloading page with url https://ict-essentials-for-teachers.moodlecloud.com/beauty-and-style/makeup-and-skin-care-tips\n",
      "Downloading page with url https://ict-essentials-for-teachers.moodlecloud.com/love-and-sex\n",
      "Downloading page with url https://ict-essentials-for-teachers.moodlecloud.com/love-and-sex/marriage-and-relationships\n",
      "Downloading page with url https://ict-essentials-for-teachers.moodlecloud.com/love-and-sex/dating\n",
      "Downloading page with url https://ict-essentials-for-teachers.moodlecloud.com/love-and-sex/sex\n",
      "Downloading page with url https://ict-essentials-for-teachers.moodlecloud.com/love-and-sex/weddings\n",
      "Downloading page with url https://ict-essentials-for-teachers.moodlecloud.com/love-and-sex/relationship-advice\n",
      "Downloading page with url https://ict-essentials-for-teachers.moodlecloud.com/health-and-wellness\n",
      "Downloading page with url https://ict-essentials-for-teachers.moodlecloud.com/health-and-wellness/well-being\n",
      "Downloading page with url https://ict-essentials-for-teachers.moodlecloud.com/health-and-wellness/diet-and-fitness\n",
      "Downloading page with url https://ict-essentials-for-teachers.moodlecloud.com/health-and-wellness/workouts\n",
      "Downloading page with url https://ict-essentials-for-teachers.moodlecloud.com/health-and-wellness/childrens-health\n",
      "Downloading page with url https://ict-essentials-for-teachers.moodlecloud.com/health-and-wellness/fitness-tips\n",
      "Downloading page with url https://ict-essentials-for-teachers.moodlecloud.com/living\n",
      "Downloading page with url https://ict-essentials-for-teachers.moodlecloud.com/living/travel\n",
      "Downloading page with url https://ict-essentials-for-teachers.moodlecloud.com/living/hobbies-crafts\n",
      "Downloading page with url https://ict-essentials-for-teachers.moodlecloud.com/living/career-and-money\n",
      "Downloading page with url https://ict-essentials-for-teachers.moodlecloud.com/living/money-and-finance\n",
      "Downloading page with url https://ict-essentials-for-teachers.moodlecloud.com/living/how-tos\n",
      "Downloading page with url https://ict-essentials-for-teachers.moodlecloud.com/pets-and-animals\n",
      "Downloading page with url https://ict-essentials-for-teachers.moodlecloud.com/home-and-gardening\n",
      "Downloading page with url https://ict-essentials-for-teachers.moodlecloud.com/home-and-gardening/decor-and-style\n",
      "Downloading page with url https://ict-essentials-for-teachers.moodlecloud.com/home-and-gardening/remodeling-and-home-improvement\n",
      "Downloading page with url https://ict-essentials-for-teachers.moodlecloud.com/home-and-gardening/organizing-and-cleaning\n",
      "Downloading page with url https://ict-essentials-for-teachers.moodlecloud.com/home-and-gardening/outdoor-and-gardening\n",
      "Downloading page with url https://ict-essentials-for-teachers.moodlecloud.com/home-and-gardening/cleaning-and-organizing-tips\n",
      "Downloading page with url https://ict-essentials-for-teachers.moodlecloud.com/special-series\n",
      "Downloading page with url https://ict-essentials-for-teachers.moodlecloud.com/featured-program\n",
      "Downloading page with url https://ict-essentials-for-teachers.moodlecloud.com/bestdeals\n"
     ]
    },
    {
     "name": "stdout",
     "output_type": "stream",
     "text": [
      "Downloading page with url https://ict-essentials-for-teachers.moodlecloud.com/best-reviews\n",
      "Downloading page with url https://ict-essentials-for-teachers.moodlecloud.com/top-fashion\n",
      "Downloading page with url https://ict-essentials-for-teachers.moodlecloud.com/tv-guide\n",
      "Downloading page with url https://ict-essentials-for-teachers.moodlecloud.com/parenting/tips-and-advice\n",
      "Downloading page with url https://ict-essentials-for-teachers.moodlecloud.com/recipes\n",
      "Downloading page with url https://ict-essentials-for-teachers.moodlecloud.com/mediakit/contact-us\n",
      "Downloading page with url https://ict-essentials-for-teachers.moodlecloud.com/mediakit/jobs-and-careers/articles\n",
      "Downloading page with url https://ict-essentials-for-teachers.moodlecloud.com/community-guidelines\n",
      "Downloading page with url https://ict-essentials-for-teachers.moodlecloud.com/privacy-policy\n",
      "Downloading page with url https://ict-essentials-for-teachers.moodlecloud.com/terms-of-use\n",
      "Downloading page with url https://ict-essentials-for-teachers.moodlecloud.com/mediakit/articles/813563/the-story-of-sheknows-1\n",
      "Downloading page with url https://ict-essentials-for-teachers.moodlecloud.com/connect/logout?redirect=http%3A%2F%2Fwww.sheknows.com%2Fparenting%2Farticles%2F1072022%2Fpros-and-cons-of-mobile-phones-at-school\n",
      "Downloading page with url https://ict-essentials-for-teachers.moodlecloud.com/parenting/articles/969479/raising-bilingual-kids\n",
      "Downloading page with url https://ict-essentials-for-teachers.moodlecloud.com/parenting/articles/1062172/preparing-kids-for-college\n",
      "Downloading page with url https://ict-essentials-for-teachers.moodlecloud.com/authors/louisa-austin/articles\n",
      "Downloading page with url https://ict-essentials-for-teachers.moodlecloud.com/parenting/articles/958245/5-common-parenting-mistakes\n",
      "Downloading page with url https://ict-essentials-for-teachers.moodlecloud.com/parenting/articles/966031/how-to-get-your-kids-to-respect-you\n",
      "Downloading page with url https://ict-essentials-for-teachers.moodlecloud.com/parenting/articles/952751/why-your-child-should-carry-a-mobile-phone\n",
      "Downloading page with url https://ict-essentials-for-teachers.moodlecloud.com/tags/parenting-tips\n",
      "Downloading page with url https://ict-essentials-for-teachers.moodlecloud.com/parenting/slideshow/9009/thanksgiving-book-round\n",
      "Downloading page with url https://ict-essentials-for-teachers.moodlecloud.com/parenting/slideshow/8994/great-kids-podcasts\n",
      "Downloading page with url https://ict-essentials-for-teachers.moodlecloud.com/parenting/slideshow/3497/kids-thanksgiving-crafts\n",
      "Downloading page with url https://ict-essentials-for-teachers.moodlecloud.com/parenting/slideshow/7559/holiday-gifts-for-kids\n",
      "Downloading page with url https://ict-essentials-for-teachers.moodlecloud.com/food-and-recipes/articles/1136898/glitter-cappuccinos\n",
      "Downloading page with url https://ict-essentials-for-teachers.moodlecloud.com/parenting/articles/1136881/mother-breastfeeding-5-year-old-controversy\n",
      "Downloading page with url https://ict-essentials-for-teachers.moodlecloud.com/health-and-wellness/articles/1136913/airline-weighing-passengers\n",
      "Downloading page with url https://ict-essentials-for-teachers.moodlecloud.com/mod/forum/discuss.php?d=186#p710\n",
      "Downloading page with url https://ict-essentials-for-teachers.moodlecloud.com/mod/forum/discuss.php?d=187#p711\n",
      "Downloading page with url https://ict-essentials-for-teachers.moodlecloud.com/mod/forum/discuss.php?d=5#p5\n",
      "Downloading page with url https://ict-essentials-for-teachers.moodlecloud.com/mod/forum/discuss.php?d=6\n",
      "Downloading page with url https://ict-essentials-for-teachers.moodlecloud.com/mod/forum/discuss.php?d=1\n",
      "Downloading page with url https://ict-essentials-for-teachers.moodlecloud.com/mod/forum/discuss.php?d=2\n",
      "Downloading page with url https://ict-essentials-for-teachers.moodlecloud.com/mod/forum/discuss.php?d=183#p707\n",
      "Downloading page with url https://ict-essentials-for-teachers.moodlecloud.com/mod/forum/discuss.php?d=182#p706\n",
      "Downloading page with url https://ict-essentials-for-teachers.moodlecloud.com/mod/forum/discuss.php?d=181#p705\n",
      "Downloading page with url https://ict-essentials-for-teachers.moodlecloud.com/mod/forum/discuss.php?d=180#p704\n",
      "Downloading page with url https://ict-essentials-for-teachers.moodlecloud.com/mod/forum/discuss.php?d=179#p703\n",
      "Downloading page with url https://ict-essentials-for-teachers.moodlecloud.com/mod/forum/discuss.php?d=178#p702\n",
      "Downloading page with url https://ict-essentials-for-teachers.moodlecloud.com/mod/forum/discuss.php?d=3\n",
      "Downloading page with url https://ict-essentials-for-teachers.moodlecloud.com/mod/forum/discuss.php?d=104\n",
      "Downloading page with url https://ict-essentials-for-teachers.moodlecloud.com/mod/forum/discuss.php?d=4\n",
      "Downloading page with url https://ict-essentials-for-teachers.moodlecloud.com/mod/forum/discuss.php?d=184\n",
      "Downloading page with url https://ict-essentials-for-teachers.moodlecloud.com/mod/forum/discuss.php?d=185\n",
      "Downloading page with url https://ict-essentials-for-teachers.moodlecloud.com/mod/forum/discuss.php?d=186\n",
      "Downloading page with url https://ict-essentials-for-teachers.moodlecloud.com/mod/forum/discuss.php?d=187\n",
      "Downloading page with url https://ict-essentials-for-teachers.moodlecloud.com/mod/forum/discuss.php?d=5\n"
     ]
    }
   ],
   "source": [
    "import re\n",
    "from crawler import BaseCrawler\n",
    "\n",
    "ict_crawler = BaseCrawler(\n",
    "        main_source_domain='https://ict-essentials-for-teachers.moodlecloud.com',\n",
    "        start_page='https://ict-essentials-for-teachers.moodlecloud.com/')\n",
    "ict_crawler.IGNORE_URL_PATTERNS.append(re.compile('.*[\\?&]lang=.*'))\n",
    "ict_crawler.IGNORE_URL_PATTERNS.append(re.compile('.*calendar/set\\.php.*'))\n",
    "ict_crawler.IGNORE_URL_PATTERNS.append(re.compile('.*calendar/view\\.php.*'))\n",
    "ict_channel_tree = ict_crawler.crawl(limit=1000)\n"
   ]
  },
  {
   "cell_type": "code",
   "execution_count": 3,
   "metadata": {
    "scrolled": false
   },
   "outputs": [
    {
     "name": "stdout",
     "output_type": "stream",
     "text": [
      "  - url: THIS IS THE TOP LEVEL CONTAINER FOR THE GRAWLER. ITS UNIQUE CHILD NODE IS THE ROOT. \n",
      "    children:\n",
      "    - path: /  (PageWebResource) \n",
      "      children:\n",
      "      - url: #maincontent  (NoFollowLink) \n",
      "        has 0 children\n",
      "      - url: #  (NoFollowLink) \n",
      "        has 0 children\n",
      "      - path: /?lang=am  (NoFollowLink) \n",
      "        has 0 children\n",
      "      - path: /?lang=af  (NoFollowLink) \n",
      "        has 0 children\n",
      "      - path: /?lang=an  (NoFollowLink) \n",
      "        has 0 children\n",
      "      - path: /?lang=oc_es  (NoFollowLink) \n",
      "        has 0 children\n",
      "      - path: /?lang=ast  (NoFollowLink) \n",
      "        has 0 children\n",
      "      - path: /?lang=az  (NoFollowLink) \n",
      "        has 0 children\n",
      "      - path: /?lang=ms  (NoFollowLink) \n",
      "        has 0 children\n",
      "      - path: /?lang=bi  (NoFollowLink) \n",
      "        has 0 children\n",
      "      - path: /?lang=bs  (NoFollowLink) \n",
      "        has 0 children\n",
      "      - path: /?lang=br  (NoFollowLink) \n",
      "        has 0 children\n",
      "      - path: /?lang=ca  (NoFollowLink) \n",
      "        has 0 children\n",
      "      - path: /?lang=ca_valencia  (NoFollowLink) \n",
      "        has 0 children\n",
      "      - path: /?lang=cs  (NoFollowLink) \n",
      "        has 0 children\n",
      "      - path: /?lang=mis  (NoFollowLink) \n",
      "        has 0 children\n",
      "      - path: /?lang=cy  (NoFollowLink) \n",
      "        has 0 children\n",
      "      - path: /?lang=da  (NoFollowLink) \n",
      "        has 0 children\n",
      "      - path: /?lang=da_kursus  (NoFollowLink) \n",
      "        has 0 children\n",
      "      - path: /?lang=da_rum  (NoFollowLink) \n",
      "        has 0 children\n",
      "      - path: /?lang=se  (NoFollowLink) \n",
      "        has 0 children\n",
      "      - path: /?lang=de_du  (NoFollowLink) \n",
      "        has 0 children\n",
      "      - path: /?lang=de_kids  (NoFollowLink) \n",
      "        has 0 children\n",
      "      - path: /?lang=de  (NoFollowLink) \n",
      "        has 0 children\n",
      "      - path: /?lang=de_comm  (NoFollowLink) \n",
      "        has 0 children\n",
      "      - path: /?lang=dsb  (NoFollowLink) \n",
      "        has 0 children\n",
      "      - path: /?lang=mh  (NoFollowLink) \n",
      "        has 0 children\n",
      "      - path: /?lang=et  (NoFollowLink) \n",
      "        has 0 children\n",
      "      - path: /?lang=en_ar  (NoFollowLink) \n",
      "        has 0 children\n",
      "      - path: /?lang=en_us  (NoFollowLink) \n",
      "        has 0 children\n",
      "      - path: /?lang=en  (NoFollowLink) \n",
      "        has 0 children\n",
      "      - path: /?lang=en_kids  (NoFollowLink) \n",
      "        has 0 children\n",
      "      - path: /?lang=en_us_k12  (NoFollowLink) \n",
      "        has 0 children\n",
      "      - path: /?lang=es  (NoFollowLink) \n",
      "        has 0 children\n",
      "      - path: /?lang=es_mx  (NoFollowLink) \n",
      "        has 0 children\n",
      "      - path: /?lang=es_mx_kids  (NoFollowLink) \n",
      "        has 0 children\n",
      "      - path: /?lang=es_co  (NoFollowLink) \n",
      "        has 0 children\n",
      "      - path: /?lang=es_ve  (NoFollowLink) \n",
      "        has 0 children\n",
      "      - path: /?lang=eo  (NoFollowLink) \n",
      "        has 0 children\n",
      "      - path: /?lang=eu  (NoFollowLink) \n",
      "        has 0 children\n",
      "      - path: /?lang=ee  (NoFollowLink) \n",
      "        has 0 children\n",
      "      - path: /?lang=fil  (NoFollowLink) \n",
      "        has 0 children\n",
      "      - path: /?lang=sv_fi  (NoFollowLink) \n",
      "        has 0 children\n",
      "      - path: /?lang=fo  (NoFollowLink) \n",
      "        has 0 children\n",
      "      - path: /?lang=fr_ca  (NoFollowLink) \n",
      "        has 0 children\n",
      "      - path: /?lang=fr  (NoFollowLink) \n",
      "        has 0 children\n",
      "      - path: /?lang=ga  (NoFollowLink) \n",
      "        has 0 children\n",
      "      - path: /?lang=gd  (NoFollowLink) \n",
      "        has 0 children\n",
      "      - path: /?lang=gl  (NoFollowLink) \n",
      "        has 0 children\n",
      "      - path: /?lang=oc_gsc  (NoFollowLink) \n",
      "        has 0 children\n",
      "      - path: /?lang=ha  (NoFollowLink) \n",
      "        has 0 children\n",
      "      - path: /?lang=hr  (NoFollowLink) \n",
      "        has 0 children\n",
      "      - path: /?lang=haw  (NoFollowLink) \n",
      "        has 0 children\n",
      "      - path: /?lang=id  (NoFollowLink) \n",
      "        has 0 children\n",
      "      - path: /?lang=zu  (NoFollowLink) \n",
      "        has 0 children\n",
      "      - path: /?lang=is  (NoFollowLink) \n",
      "        has 0 children\n",
      "      - path: /?lang=it  (NoFollowLink) \n",
      "        has 0 children\n",
      "      - path: /?lang=ja_kids  (NoFollowLink) \n",
      "        has 0 children\n",
      "      - path: /?lang=kl  (NoFollowLink) \n",
      "        has 0 children\n",
      "      - path: /?lang=sw  (NoFollowLink) \n",
      "        has 0 children\n",
      "      - path: /?lang=hat  (NoFollowLink) \n",
      "        has 0 children\n",
      "      - path: /?lang=kmr  (NoFollowLink) \n",
      "        has 0 children\n",
      "      - path: /?lang=lo  (NoFollowLink) \n",
      "        has 0 children\n",
      "      - path: /?lang=la  (NoFollowLink) \n",
      "        has 0 children\n",
      "      - path: /?lang=lv  (NoFollowLink) \n",
      "        has 0 children\n",
      "      - path: /?lang=oc_lnc  (NoFollowLink) \n",
      "        has 0 children\n",
      "      - path: /?lang=lb  (NoFollowLink) \n",
      "        has 0 children\n",
      "      - path: /?lang=lt  (NoFollowLink) \n",
      "        has 0 children\n",
      "      - path: /?lang=lt_uni  (NoFollowLink) \n",
      "        has 0 children\n",
      "      - path: /?lang=smj  (NoFollowLink) \n",
      "        has 0 children\n",
      "      - path: /?lang=hu  (NoFollowLink) \n",
      "        has 0 children\n",
      "      - path: /?lang=mg  (NoFollowLink) \n",
      "        has 0 children\n",
      "      - path: /?lang=mi_tn  (NoFollowLink) \n",
      "        has 0 children\n",
      "      - path: /?lang=mi_wwow  (NoFollowLink) \n",
      "        has 0 children\n",
      "      - path: /?lang=mi  (NoFollowLink) \n",
      "        has 0 children\n",
      "      - path: /?lang=mn_mong  (NoFollowLink) \n",
      "        has 0 children\n",
      "      - path: /?lang=my  (NoFollowLink) \n",
      "        has 0 children\n",
      "      - path: /?lang=nl  (NoFollowLink) \n",
      "        has 0 children\n",
      "      - path: /?lang=no  (NoFollowLink) \n",
      "        has 0 children\n",
      "      - path: /?lang=nn  (NoFollowLink) \n",
      "        has 0 children\n",
      "      - path: /?lang=no_gr  (NoFollowLink) \n",
      "        has 0 children\n",
      "      - path: /?lang=uz  (NoFollowLink) \n",
      "        has 0 children\n",
      "      - path: /?lang=pl  (NoFollowLink) \n",
      "        has 0 children\n",
      "      - path: /?lang=pt_br  (NoFollowLink) \n",
      "        has 0 children\n",
      "      - path: /?lang=pt  (NoFollowLink) \n",
      "        has 0 children\n",
      "      - path: /?lang=ro  (NoFollowLink) \n",
      "        has 0 children\n",
      "      - path: /?lang=rm_surs  (NoFollowLink) \n",
      "        has 0 children\n",
      "      - path: /?lang=sm  (NoFollowLink) \n",
      "        has 0 children\n",
      "      - path: /?lang=tn  (NoFollowLink) \n",
      "        has 0 children\n",
      "      - path: /?lang=sq  (NoFollowLink) \n",
      "        has 0 children\n",
      "      - path: /?lang=sl  (NoFollowLink) \n",
      "        has 0 children\n",
      "      - path: /?lang=sk  (NoFollowLink) \n",
      "        has 0 children\n",
      "      - path: /?lang=so  (NoFollowLink) \n",
      "        has 0 children\n",
      "      - path: /?lang=sma  (NoFollowLink) \n",
      "        has 0 children\n",
      "      - path: /?lang=sr_lt  (NoFollowLink) \n",
      "        has 0 children\n",
      "      - path: /?lang=fi  (NoFollowLink) \n",
      "        has 0 children\n",
      "      - path: /?lang=fi_co  (NoFollowLink) \n",
      "        has 0 children\n",
      "      - path: /?lang=sv  (NoFollowLink) \n",
      "        has 0 children\n",
      "      - path: /?lang=tl  (NoFollowLink) \n",
      "        has 0 children\n",
      "      - path: /?lang=ta  (NoFollowLink) \n",
      "        has 0 children\n",
      "      - path: /?lang=kab  (NoFollowLink) \n",
      "        has 0 children\n",
      "      - path: /?lang=th  (NoFollowLink) \n",
      "        has 0 children\n",
      "      - path: /?lang=to  (NoFollowLink) \n",
      "        has 0 children\n",
      "      - path: /?lang=tr  (NoFollowLink) \n",
      "        has 0 children\n",
      "      - path: /?lang=tk  (NoFollowLink) \n",
      "        has 0 children\n",
      "      - path: /?lang=fj  (NoFollowLink) \n",
      "        has 0 children\n",
      "      - path: /?lang=vi  (NoFollowLink) \n",
      "        has 0 children\n",
      "      - path: /?lang=wo  (NoFollowLink) \n",
      "        has 0 children\n",
      "      - path: /?lang=el  (NoFollowLink) \n",
      "        has 0 children\n",
      "      - path: /?lang=ba  (NoFollowLink) \n",
      "        has 0 children\n",
      "      - path: /?lang=be  (NoFollowLink) \n",
      "        has 0 children\n",
      "      - path: /?lang=bg  (NoFollowLink) \n",
      "        has 0 children\n",
      "      - path: /?lang=ky  (NoFollowLink) \n",
      "        has 0 children\n",
      "      - path: /?lang=kk  (NoFollowLink) \n",
      "        has 0 children\n",
      "      - path: /?lang=mk  (NoFollowLink) \n",
      "        has 0 children\n",
      "      - path: /?lang=mn  (NoFollowLink) \n",
      "        has 0 children\n",
      "      - path: /?lang=ru  (NoFollowLink) \n",
      "        has 0 children\n",
      "      - path: /?lang=sr_cr  (NoFollowLink) \n",
      "        has 0 children\n",
      "      - path: /?lang=tt  (NoFollowLink) \n",
      "        has 0 children\n",
      "      - path: /?lang=tg  (NoFollowLink) \n",
      "        has 0 children\n",
      "      - path: /?lang=uk  (NoFollowLink) \n",
      "        has 0 children\n",
      "      - path: /?lang=ka  (NoFollowLink) \n",
      "        has 0 children\n",
      "      - path: /?lang=hy  (NoFollowLink) \n",
      "        has 0 children\n",
      "      - path: /?lang=he  (NoFollowLink) \n",
      "        has 0 children\n",
      "      - path: /?lang=he_kids  (NoFollowLink) \n",
      "        has 0 children\n",
      "      - path: /?lang=ur  (NoFollowLink) \n",
      "        has 0 children\n",
      "      - path: /?lang=ps  (NoFollowLink) \n",
      "        has 0 children\n",
      "      - path: /?lang=ckb  (NoFollowLink) \n",
      "        has 0 children\n",
      "      - path: /?lang=ar  (NoFollowLink) \n",
      "        has 0 children\n",
      "      - path: /?lang=fa  (NoFollowLink) \n",
      "        has 0 children\n",
      "      - path: /?lang=dv  (NoFollowLink) \n",
      "        has 0 children\n",
      "      - path: /?lang=zgh  (NoFollowLink) \n",
      "        has 0 children\n",
      "      - path: /?lang=ti  (NoFollowLink) \n",
      "        has 0 children\n",
      "      - path: /?lang=ne  (NoFollowLink) \n",
      "        has 0 children\n",
      "      - path: /?lang=mr  (NoFollowLink) \n",
      "        has 0 children\n",
      "      - path: /?lang=hi  (NoFollowLink) \n",
      "        has 0 children\n",
      "      - path: /?lang=bn  (NoFollowLink) \n",
      "        has 0 children\n",
      "      - path: /?lang=pan  (NoFollowLink) \n",
      "        has 0 children\n",
      "      - path: /?lang=gu  (NoFollowLink) \n",
      "        has 0 children\n",
      "      - path: /?lang=or  (NoFollowLink) \n",
      "        has 0 children\n",
      "      - path: /?lang=ta_lk  (NoFollowLink) \n",
      "        has 0 children\n",
      "      - path: /?lang=te  (NoFollowLink) \n",
      "        has 0 children\n",
      "      - path: /?lang=kn  (NoFollowLink) \n",
      "        has 0 children\n",
      "      - path: /?lang=ml  (NoFollowLink) \n",
      "        has 0 children\n",
      "      - path: /?lang=si  (NoFollowLink) \n",
      "        has 0 children\n",
      "      - path: /?lang=xct  (NoFollowLink) \n",
      "        has 0 children\n",
      "      - path: /?lang=dz  (NoFollowLink) \n",
      "        has 0 children\n",
      "      - path: /?lang=km  (NoFollowLink) \n",
      "        has 0 children\n",
      "      - path: /?lang=ko  (NoFollowLink) \n",
      "        has 0 children\n",
      "      - path: /?lang=ja  (NoFollowLink) \n",
      "        has 0 children\n",
      "      - path: /?lang=zh_tw  (NoFollowLink) \n",
      "        has 0 children\n",
      "      - path: /?lang=zh_cn  (NoFollowLink) \n",
      "        has 0 children\n",
      "      - url: #skipcourses  (NoFollowLink) \n",
      "        has 0 children\n",
      "      - url: #  (NoFollowLink) \n",
      "        has 0 children\n",
      "      - url: #skipavailablecourses  (NoFollowLink) \n",
      "        has 0 children\n",
      "      - url: #sb-1  (NoFollowLink) \n",
      "        has 0 children\n",
      "      - path: /calendar/view.php?view=month  (NoFollowLink) \n",
      "        has 0 children\n",
      "      - url: http://moodle.org/  (NoFollowLink) \n",
      "        has 0 children\n",
      "      - url: #  (NoFollowLink) \n",
      "        has 0 children\n",
      "      - path: /?lang=am  (NoFollowLink) \n",
      "        has 0 children\n",
      "      - path: /?lang=af  (NoFollowLink) \n",
      "        has 0 children\n",
      "      - path: /?lang=an  (NoFollowLink) \n",
      "        has 0 children\n",
      "      - path: /?lang=oc_es  (NoFollowLink) \n",
      "        has 0 children\n",
      "      - path: /?lang=ast  (NoFollowLink) \n",
      "        has 0 children\n",
      "      - path: /?lang=az  (NoFollowLink) \n",
      "        has 0 children\n",
      "      - path: /?lang=ms  (NoFollowLink) \n",
      "        has 0 children\n",
      "      - path: /?lang=bi  (NoFollowLink) \n",
      "        has 0 children\n",
      "      - path: /?lang=bs  (NoFollowLink) \n",
      "        has 0 children\n",
      "      - path: /?lang=br  (NoFollowLink) \n",
      "        has 0 children\n",
      "      - path: /?lang=ca  (NoFollowLink) \n",
      "        has 0 children\n",
      "      - path: /?lang=ca_valencia  (NoFollowLink) \n",
      "        has 0 children\n",
      "      - path: /?lang=cs  (NoFollowLink) \n",
      "        has 0 children\n",
      "      - path: /?lang=mis  (NoFollowLink) \n",
      "        has 0 children\n",
      "      - path: /?lang=cy  (NoFollowLink) \n",
      "        has 0 children\n",
      "      - path: /?lang=da  (NoFollowLink) \n",
      "        has 0 children\n",
      "      - path: /?lang=da_kursus  (NoFollowLink) \n",
      "        has 0 children\n",
      "      - path: /?lang=da_rum  (NoFollowLink) \n",
      "        has 0 children\n",
      "      - path: /?lang=se  (NoFollowLink) \n",
      "        has 0 children\n",
      "      - path: /?lang=de_du  (NoFollowLink) \n",
      "        has 0 children\n",
      "      - path: /?lang=de_kids  (NoFollowLink) \n",
      "        has 0 children\n",
      "      - path: /?lang=de  (NoFollowLink) \n",
      "        has 0 children\n",
      "      - path: /?lang=de_comm  (NoFollowLink) \n",
      "        has 0 children\n",
      "      - path: /?lang=dsb  (NoFollowLink) \n",
      "        has 0 children\n",
      "      - path: /?lang=mh  (NoFollowLink) \n",
      "        has 0 children\n",
      "      - path: /?lang=et  (NoFollowLink) \n",
      "        has 0 children\n",
      "      - path: /?lang=en_ar  (NoFollowLink) \n",
      "        has 0 children\n",
      "      - path: /?lang=en_us  (NoFollowLink) \n",
      "        has 0 children\n",
      "      - path: /?lang=en  (NoFollowLink) \n",
      "        has 0 children\n",
      "      - path: /?lang=en_kids  (NoFollowLink) \n",
      "        has 0 children\n",
      "      - path: /?lang=en_us_k12  (NoFollowLink) \n",
      "        has 0 children\n",
      "      - path: /?lang=es  (NoFollowLink) \n",
      "        has 0 children\n",
      "      - path: /?lang=es_mx  (NoFollowLink) \n",
      "        has 0 children\n",
      "      - path: /?lang=es_mx_kids  (NoFollowLink) \n",
      "        has 0 children\n",
      "      - path: /?lang=es_co  (NoFollowLink) \n",
      "        has 0 children\n",
      "      - path: /?lang=es_ve  (NoFollowLink) \n",
      "        has 0 children\n",
      "      - path: /?lang=eo  (NoFollowLink) \n",
      "        has 0 children\n",
      "      - path: /?lang=eu  (NoFollowLink) \n",
      "        has 0 children\n",
      "      - path: /?lang=ee  (NoFollowLink) \n",
      "        has 0 children\n",
      "      - path: /?lang=fil  (NoFollowLink) \n",
      "        has 0 children\n",
      "      - path: /?lang=sv_fi  (NoFollowLink) \n",
      "        has 0 children\n",
      "      - path: /?lang=fo  (NoFollowLink) \n",
      "        has 0 children\n",
      "      - path: /?lang=fr_ca  (NoFollowLink) \n",
      "        has 0 children\n",
      "      - path: /?lang=fr  (NoFollowLink) \n",
      "        has 0 children\n",
      "      - path: /?lang=ga  (NoFollowLink) \n",
      "        has 0 children\n",
      "      - path: /?lang=gd  (NoFollowLink) \n",
      "        has 0 children\n",
      "      - path: /?lang=gl  (NoFollowLink) \n",
      "        has 0 children\n",
      "      - path: /?lang=oc_gsc  (NoFollowLink) \n",
      "        has 0 children\n",
      "      - path: /?lang=ha  (NoFollowLink) \n",
      "        has 0 children\n",
      "      - path: /?lang=hr  (NoFollowLink) \n",
      "        has 0 children\n",
      "      - path: /?lang=haw  (NoFollowLink) \n",
      "        has 0 children\n",
      "      - path: /?lang=id  (NoFollowLink) \n",
      "        has 0 children\n",
      "      - path: /?lang=zu  (NoFollowLink) \n",
      "        has 0 children\n",
      "      - path: /?lang=is  (NoFollowLink) \n",
      "        has 0 children\n",
      "      - path: /?lang=it  (NoFollowLink) \n",
      "        has 0 children\n",
      "      - path: /?lang=ja_kids  (NoFollowLink) \n",
      "        has 0 children\n",
      "      - path: /?lang=kl  (NoFollowLink) \n",
      "        has 0 children\n",
      "      - path: /?lang=sw  (NoFollowLink) \n",
      "        has 0 children\n",
      "      - path: /?lang=hat  (NoFollowLink) \n",
      "        has 0 children\n",
      "      - path: /?lang=kmr  (NoFollowLink) \n",
      "        has 0 children\n",
      "      - path: /?lang=lo  (NoFollowLink) \n",
      "        has 0 children\n"
     ]
    },
    {
     "name": "stdout",
     "output_type": "stream",
     "text": [
      "      - path: /?lang=la  (NoFollowLink) \n",
      "        has 0 children\n",
      "      - path: /?lang=lv  (NoFollowLink) \n",
      "        has 0 children\n",
      "      - path: /?lang=oc_lnc  (NoFollowLink) \n",
      "        has 0 children\n",
      "      - path: /?lang=lb  (NoFollowLink) \n",
      "        has 0 children\n",
      "      - path: /?lang=lt  (NoFollowLink) \n",
      "        has 0 children\n",
      "      - path: /?lang=lt_uni  (NoFollowLink) \n",
      "        has 0 children\n",
      "      - path: /?lang=smj  (NoFollowLink) \n",
      "        has 0 children\n",
      "      - path: /?lang=hu  (NoFollowLink) \n",
      "        has 0 children\n",
      "      - path: /?lang=mg  (NoFollowLink) \n",
      "        has 0 children\n",
      "      - path: /?lang=mi_tn  (NoFollowLink) \n",
      "        has 0 children\n",
      "      - path: /?lang=mi_wwow  (NoFollowLink) \n",
      "        has 0 children\n",
      "      - path: /?lang=mi  (NoFollowLink) \n",
      "        has 0 children\n",
      "      - path: /?lang=mn_mong  (NoFollowLink) \n",
      "        has 0 children\n",
      "      - path: /?lang=my  (NoFollowLink) \n",
      "        has 0 children\n",
      "      - path: /?lang=nl  (NoFollowLink) \n",
      "        has 0 children\n",
      "      - path: /?lang=no  (NoFollowLink) \n",
      "        has 0 children\n",
      "      - path: /?lang=nn  (NoFollowLink) \n",
      "        has 0 children\n",
      "      - path: /?lang=no_gr  (NoFollowLink) \n",
      "        has 0 children\n",
      "      - path: /?lang=uz  (NoFollowLink) \n",
      "        has 0 children\n",
      "      - path: /?lang=pl  (NoFollowLink) \n",
      "        has 0 children\n",
      "      - path: /?lang=pt_br  (NoFollowLink) \n",
      "        has 0 children\n",
      "      - path: /?lang=pt  (NoFollowLink) \n",
      "        has 0 children\n",
      "      - path: /?lang=ro  (NoFollowLink) \n",
      "        has 0 children\n",
      "      - path: /?lang=rm_surs  (NoFollowLink) \n",
      "        has 0 children\n",
      "      - path: /?lang=sm  (NoFollowLink) \n",
      "        has 0 children\n",
      "      - path: /?lang=tn  (NoFollowLink) \n",
      "        has 0 children\n",
      "      - path: /?lang=sq  (NoFollowLink) \n",
      "        has 0 children\n",
      "      - path: /?lang=sl  (NoFollowLink) \n",
      "        has 0 children\n",
      "      - path: /?lang=sk  (NoFollowLink) \n",
      "        has 0 children\n",
      "      - path: /?lang=so  (NoFollowLink) \n",
      "        has 0 children\n",
      "      - path: /?lang=sma  (NoFollowLink) \n",
      "        has 0 children\n",
      "      - path: /?lang=sr_lt  (NoFollowLink) \n",
      "        has 0 children\n",
      "      - path: /?lang=fi  (NoFollowLink) \n",
      "        has 0 children\n",
      "      - path: /?lang=fi_co  (NoFollowLink) \n",
      "        has 0 children\n",
      "      - path: /?lang=sv  (NoFollowLink) \n",
      "        has 0 children\n",
      "      - path: /?lang=tl  (NoFollowLink) \n",
      "        has 0 children\n",
      "      - path: /?lang=ta  (NoFollowLink) \n",
      "        has 0 children\n",
      "      - path: /?lang=kab  (NoFollowLink) \n",
      "        has 0 children\n",
      "      - path: /?lang=th  (NoFollowLink) \n",
      "        has 0 children\n",
      "      - path: /?lang=to  (NoFollowLink) \n",
      "        has 0 children\n",
      "      - path: /?lang=tr  (NoFollowLink) \n",
      "        has 0 children\n",
      "      - path: /?lang=tk  (NoFollowLink) \n",
      "        has 0 children\n",
      "      - path: /?lang=fj  (NoFollowLink) \n",
      "        has 0 children\n",
      "      - path: /?lang=vi  (NoFollowLink) \n",
      "        has 0 children\n",
      "      - path: /?lang=wo  (NoFollowLink) \n",
      "        has 0 children\n",
      "      - path: /?lang=el  (NoFollowLink) \n",
      "        has 0 children\n",
      "      - path: /?lang=ba  (NoFollowLink) \n",
      "        has 0 children\n",
      "      - path: /?lang=be  (NoFollowLink) \n",
      "        has 0 children\n",
      "      - path: /?lang=bg  (NoFollowLink) \n",
      "        has 0 children\n",
      "      - path: /?lang=ky  (NoFollowLink) \n",
      "        has 0 children\n",
      "      - path: /?lang=kk  (NoFollowLink) \n",
      "        has 0 children\n",
      "      - path: /?lang=mk  (NoFollowLink) \n",
      "        has 0 children\n",
      "      - path: /?lang=mn  (NoFollowLink) \n",
      "        has 0 children\n",
      "      - path: /?lang=ru  (NoFollowLink) \n",
      "        has 0 children\n",
      "      - path: /?lang=sr_cr  (NoFollowLink) \n",
      "        has 0 children\n",
      "      - path: /?lang=tt  (NoFollowLink) \n",
      "        has 0 children\n",
      "      - path: /?lang=tg  (NoFollowLink) \n",
      "        has 0 children\n",
      "      - path: /?lang=uk  (NoFollowLink) \n",
      "        has 0 children\n",
      "      - path: /?lang=ka  (NoFollowLink) \n",
      "        has 0 children\n",
      "      - path: /?lang=hy  (NoFollowLink) \n",
      "        has 0 children\n",
      "      - path: /?lang=he  (NoFollowLink) \n",
      "        has 0 children\n",
      "      - path: /?lang=he_kids  (NoFollowLink) \n",
      "        has 0 children\n",
      "      - path: /?lang=ur  (NoFollowLink) \n",
      "        has 0 children\n",
      "      - path: /?lang=ps  (NoFollowLink) \n",
      "        has 0 children\n",
      "      - path: /?lang=ckb  (NoFollowLink) \n",
      "        has 0 children\n",
      "      - path: /?lang=ar  (NoFollowLink) \n",
      "        has 0 children\n",
      "      - path: /?lang=fa  (NoFollowLink) \n",
      "        has 0 children\n",
      "      - path: /?lang=dv  (NoFollowLink) \n",
      "        has 0 children\n",
      "      - path: /?lang=zgh  (NoFollowLink) \n",
      "        has 0 children\n",
      "      - path: /?lang=ti  (NoFollowLink) \n",
      "        has 0 children\n",
      "      - path: /?lang=ne  (NoFollowLink) \n",
      "        has 0 children\n",
      "      - path: /?lang=mr  (NoFollowLink) \n",
      "        has 0 children\n",
      "      - path: /?lang=hi  (NoFollowLink) \n",
      "        has 0 children\n",
      "      - path: /?lang=bn  (NoFollowLink) \n",
      "        has 0 children\n",
      "      - path: /?lang=pan  (NoFollowLink) \n",
      "        has 0 children\n",
      "      - path: /?lang=gu  (NoFollowLink) \n",
      "        has 0 children\n",
      "      - path: /?lang=or  (NoFollowLink) \n",
      "        has 0 children\n",
      "      - path: /?lang=ta_lk  (NoFollowLink) \n",
      "        has 0 children\n",
      "      - path: /?lang=te  (NoFollowLink) \n",
      "        has 0 children\n",
      "      - path: /?lang=kn  (NoFollowLink) \n",
      "        has 0 children\n",
      "      - path: /?lang=ml  (NoFollowLink) \n",
      "        has 0 children\n",
      "      - path: /?lang=si  (NoFollowLink) \n",
      "        has 0 children\n",
      "      - path: /?lang=xct  (NoFollowLink) \n",
      "        has 0 children\n",
      "      - path: /?lang=dz  (NoFollowLink) \n",
      "        has 0 children\n",
      "      - path: /?lang=km  (NoFollowLink) \n",
      "        has 0 children\n",
      "      - path: /?lang=ko  (NoFollowLink) \n",
      "        has 0 children\n",
      "      - path: /?lang=ja  (NoFollowLink) \n",
      "        has 0 children\n",
      "      - path: /?lang=zh_tw  (NoFollowLink) \n",
      "        has 0 children\n",
      "      - path: /?lang=zh_cn  (NoFollowLink) \n",
      "        has 0 children\n",
      "      - url: https://ict-essentials-for-teachers.moodlecloud.com  (PageWebResource) \n",
      "        has 309 children\n",
      "      - path: /login/index.php  (PageWebResource) \n",
      "        has 2 children\n",
      "      - path: /course/index.php?categoryid=4  (PageWebResource) \n",
      "        has 306 children\n",
      "      - path: /course/index.php?categoryid=9  (PageWebResource) \n",
      "        has 304 children\n",
      "      - path: /course/view.php?id=18  (PageWebResource) \n",
      "        has 330 children\n",
      "      - path: /course/info.php?id=18  (PageWebResource) \n",
      "        has 304 children\n",
      "      - path: /course/view.php?id=5  (PageWebResource) \n",
      "        has 350 children\n",
      "      - path: /course/info.php?id=5  (PageWebResource) \n",
      "        has 304 children\n",
      "      - path: /course/view.php?id=6  (PageWebResource) \n",
      "        has 325 children\n",
      "      - path: /course/info.php?id=6  (PageWebResource) \n",
      "        has 304 children\n",
      "      - path: /course/view.php?id=7  (PageWebResource) \n",
      "        has 344 children\n",
      "      - path: /course/info.php?id=7  (PageWebResource) \n",
      "        has 304 children\n",
      "      - path: /course/view.php?id=8  (PageWebResource) \n",
      "        has 340 children\n",
      "      - path: /course/info.php?id=8  (PageWebResource) \n",
      "        has 304 children\n",
      "      - path: /course/view.php?id=11  (PageWebResource) \n",
      "        has 326 children\n",
      "      - path: /course/info.php?id=11  (PageWebResource) \n",
      "        has 304 children\n",
      "      - path: /course/view.php?id=9  (PageWebResource) \n",
      "        has 332 children\n",
      "      - path: /course/info.php?id=9  (PageWebResource) \n",
      "        has 304 children\n",
      "      - path: /course/index.php?categoryid=10  (PageWebResource) \n",
      "        has 304 children\n",
      "      - path: /course/view.php?id=10  (PageWebResource) \n",
      "        has 323 children\n",
      "      - path: /course/info.php?id=10  (PageWebResource) \n",
      "        has 304 children\n",
      "      - path: /course/view.php?id=3  (PageWebResource) \n",
      "        has 326 children\n",
      "      - path: /course/info.php?id=3  (PageWebResource) \n",
      "        has 304 children\n",
      "      - path: /course/view.php?id=15  (PageWebResource) \n",
      "        has 335 children\n",
      "      - path: /course/info.php?id=15  (PageWebResource) \n",
      "        has 304 children\n",
      "      - path: /course/view.php?id=14  (PageWebResource) \n",
      "        has 340 children\n",
      "      - path: /course/info.php?id=14  (PageWebResource) \n",
      "        has 304 children\n",
      "      - path: /course/view.php?id=12  (PageWebResource) \n",
      "        has 334 children\n",
      "      - path: /course/info.php?id=12  (PageWebResource) \n",
      "        has 304 children\n",
      "      - path: /course/view.php?id=16  (PageWebResource) \n",
      "        has 331 children\n",
      "      - path: /course/info.php?id=16  (PageWebResource) \n",
      "        has 304 children\n",
      "      - path: /course/view.php?id=13  (PageWebResource) \n",
      "        has 334 children\n",
      "      - path: /course/info.php?id=13  (PageWebResource) \n",
      "        has 304 children\n",
      "      - path: /course/view.php?id=17  (PageWebResource) \n",
      "        has 334 children\n",
      "      - path: /course/info.php?id=17  (PageWebResource) \n",
      "        has 304 children\n",
      "      - path: /course/index.php?categoryid=11  (PageWebResource) \n",
      "        has 304 children\n",
      "      - path: /course/view.php?id=20  (PageWebResource) \n",
      "        has 308 children\n",
      "      - path: /course/info.php?id=20  (PageWebResource) \n",
      "        has 304 children\n",
      "      - path: /course/view.php?id=23  (PageWebResource) \n",
      "        has 309 children\n",
      "      - path: /course/info.php?id=23  (PageWebResource) \n",
      "        has 304 children\n",
      "      - path: /course/view.php?id=22  (PageWebResource) \n",
      "        has 304 children\n",
      "      - path: /course/info.php?id=22  (PageWebResource) \n",
      "        has 304 children\n",
      "      - path: /user/view.php?id=2&course=1  (PageWebResource) \n",
      "        has 304 children\n",
      "      - path: /mod/url/view.php?id=140  (PageWebResource) \n",
      "        has 305 children\n",
      "      - path: /mod/url/view.php?id=197  (PageWebResource) \n",
      "        has 305 children\n"
     ]
    }
   ],
   "source": [
    "ict_crawler.print_tree(ict_channel_tree, print_depth=2)"
   ]
  },
  {
   "cell_type": "code",
   "execution_count": 6,
   "metadata": {},
   "outputs": [
    {
     "name": "stdout",
     "output_type": "stream",
     "text": [
      "top 10 paths [('', 235), ('parenting', 20), ('education', 10), ('mod', 8), ('food-and-recipes', 8), ('health-and-wellness', 6), ('home-and-gardening', 5), ('love-and-sex', 5), ('entertainment', 5), ('beauty-and-style', 5)]\n"
     ]
    },
    {
     "data": {
      "text/plain": [
       "[('', 235),\n",
       " ('parenting', 20),\n",
       " ('education', 10),\n",
       " ('mod', 8),\n",
       " ('food-and-recipes', 8),\n",
       " ('health-and-wellness', 6),\n",
       " ('home-and-gardening', 5),\n",
       " ('love-and-sex', 5),\n",
       " ('entertainment', 5),\n",
       " ('beauty-and-style', 5)]"
      ]
     },
     "execution_count": 6,
     "metadata": {},
     "output_type": "execute_result"
    }
   ],
   "source": [
    "ict_crawler.infer_tree_structure(ict_channel_tree)\n"
   ]
  },
  {
   "cell_type": "code",
   "execution_count": 11,
   "metadata": {},
   "outputs": [
    {
     "data": {
      "text/plain": [
       "316"
      ]
     },
     "execution_count": 11,
     "metadata": {},
     "output_type": "execute_result"
    }
   ],
   "source": [
    "gcflearnfree_links = []\n",
    "\n",
    "def _count(node):\n",
    "    count = 0\n",
    "    if 'children' in node:\n",
    "        for child_node in node['children']:\n",
    "            count += _count(child_node)\n",
    "    if 'gcflearnfree.org' in node['url']:\n",
    "        count += 1\n",
    "        gcflearnfree_links.append(node['url'])\n",
    "    return count\n",
    "\n",
    "_count(ict_channel_tree)"
   ]
  },
  {
   "cell_type": "code",
   "execution_count": 13,
   "metadata": {},
   "outputs": [
    {
     "data": {
      "text/plain": [
       "{'http://www.gcflearnfree.org/beyondemail',\n",
       " 'http://www.gcflearnfree.org/computerbasics/14/print',\n",
       " 'http://www.gcflearnfree.org/computers/computerbasics/1',\n",
       " 'http://www.gcflearnfree.org/computers/computerbasics/10',\n",
       " 'http://www.gcflearnfree.org/computers/computerbasics/5',\n",
       " 'http://www.gcflearnfree.org/computers/computerbasics/6',\n",
       " 'http://www.gcflearnfree.org/computers/computerbasics/6.4',\n",
       " 'http://www.gcflearnfree.org/computers/computerbasics/8',\n",
       " 'http://www.gcflearnfree.org/computers/computerbasics/9',\n",
       " 'http://www.gcflearnfree.org/emailbasics/email101',\n",
       " 'http://www.gcflearnfree.org/emailbasics/email101/2.2',\n",
       " 'http://www.gcflearnfree.org/gmail',\n",
       " 'http://www.gcflearnfree.org/internet101',\n",
       " 'http://www.gcflearnfree.org/internetexplorer',\n",
       " 'http://www.gcflearnfree.org/internetsafety',\n",
       " 'http://www.gcflearnfree.org/internetsafety/3',\n",
       " 'http://www.gcflearnfree.org/office2013/word2013/10',\n",
       " 'http://www.gcflearnfree.org/office2013/word2013/11',\n",
       " 'http://www.gcflearnfree.org/office2013/word2013/13',\n",
       " 'http://www.gcflearnfree.org/office2013/word2013/17',\n",
       " 'http://www.gcflearnfree.org/office2013/word2013/23',\n",
       " 'http://www.gcflearnfree.org/office2013/word2013/4',\n",
       " 'http://www.gcflearnfree.org/office2013/word2013/5',\n",
       " 'http://www.gcflearnfree.org/office2013/word2013/7',\n",
       " 'http://www.gcflearnfree.org/office2013/word2013/8',\n",
       " 'http://www.gcflearnfree.org/powerpoint2016/',\n",
       " 'http://www.gcflearnfree.org/searchbetter',\n",
       " 'http://www.gcflearnfree.org/socialmedia',\n",
       " 'http://www.gcflearnfree.org/socialmedia/facebook101',\n",
       " 'http://www.gcflearnfree.org/twitter/creating-a-twitter-account/1/',\n",
       " 'http://www.gcflearnfree.org/twitter101',\n",
       " 'http://www.gcflearnfree.org/twitter101/1',\n",
       " 'http://www.gcflearnfree.org/whatsapp/',\n",
       " 'http://www.gcflearnfree.org/windows/windows8/4',\n",
       " 'http://www.gcflearnfree.org/windows10/getting-started-with-windows-10/1/',\n",
       " 'https://www.gcflearnfree.org/computerbasics/basic-troubleshooting-techniques/1/',\n",
       " 'https://www.gcflearnfree.org/computerbasics/keeping-your-computer-clean/1/',\n",
       " 'https://www.gcflearnfree.org/excel2016/',\n",
       " 'https://www.gcflearnfree.org/excel2016/intro-to-formulas/1/',\n",
       " 'https://www.gcflearnfree.org/powerpoint2016/',\n",
       " 'https://www.gcflearnfree.org/powerpoint2016/getting-started-with-powerpoint/1/',\n",
       " 'https://www.gcflearnfree.org/word2016/creating-and-opening-documents/1/',\n",
       " 'https://www.gcflearnfree.org/word2016/formatting-text/1/',\n",
       " 'https://www.gcflearnfree.org/word2016/getting-started-with-word/1/',\n",
       " 'https://www.gcflearnfree.org/word2016/headers-and-footers/1/',\n",
       " 'https://www.gcflearnfree.org/word2016/indents-and-tabs/1/',\n",
       " 'https://www.gcflearnfree.org/word2016/lists/1/',\n",
       " 'https://www.gcflearnfree.org/word2016/printing-documents/1/',\n",
       " 'https://www.gcflearnfree.org/word2016/saving-and-sharing-documents/1/',\n",
       " 'https://www.gcflearnfree.org/word2016/tables/1/',\n",
       " 'https://www.gcflearnfree.org/word2016/text-basics/1/'}"
      ]
     },
     "execution_count": 13,
     "metadata": {},
     "output_type": "execute_result"
    }
   ],
   "source": [
    "set(gcflearnfree_links)"
   ]
  },
  {
   "cell_type": "code",
   "execution_count": null,
   "metadata": {},
   "outputs": [],
   "source": []
  }
 ],
 "metadata": {
  "kernelspec": {
   "display_name": "Python 3",
   "language": "python",
   "name": "python3"
  },
  "language_info": {
   "codemirror_mode": {
    "name": "ipython",
    "version": 3
   },
   "file_extension": ".py",
   "mimetype": "text/x-python",
   "name": "python",
   "nbconvert_exporter": "python",
   "pygments_lexer": "ipython3",
   "version": "3.6.2"
  }
 },
 "nbformat": 4,
 "nbformat_minor": 2
}
